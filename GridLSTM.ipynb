{
 "cells": [
  {
   "cell_type": "code",
   "execution_count": 1,
   "metadata": {
    "ExecuteTime": {
     "end_time": "2018-11-06T18:00:04.733893Z",
     "start_time": "2018-11-06T18:00:03.036953Z"
    }
   },
   "outputs": [
    {
     "name": "stderr",
     "output_type": "stream",
     "text": [
      "/home/heng/anaconda3/lib/python3.6/site-packages/h5py/__init__.py:36: FutureWarning: Conversion of the second argument of issubdtype from `float` to `np.floating` is deprecated. In future, it will be treated as `np.float64 == np.dtype(float).type`.\n",
      "  from ._conv import register_converters as _register_converters\n"
     ]
    }
   ],
   "source": [
    "import numpy as np\n",
    "import pandas as pd\n",
    "import tensorflow as tf\n",
    "import tensorflow as tf\n",
    "import os\n",
    "import matplotlib.pyplot as plt\n",
    "\n",
    "%matplotlib inline\n",
    "%load_ext autoreload\n",
    "%autoreload 2"
   ]
  },
  {
   "cell_type": "code",
   "execution_count": 2,
   "metadata": {
    "ExecuteTime": {
     "end_time": "2018-11-06T18:00:04.769209Z",
     "start_time": "2018-11-06T18:00:04.736457Z"
    }
   },
   "outputs": [
    {
     "data": {
      "text/plain": [
       "True"
      ]
     },
     "execution_count": 2,
     "metadata": {},
     "output_type": "execute_result"
    }
   ],
   "source": [
    "# generate data\n",
    "np.random.seed(0)\n",
    "latent_size = 5\n",
    "n = 51\n",
    "num_steps =5\n",
    "n_inputs = 1\n",
    "\n",
    "cycles = 25\n",
    "stdev = .07\n",
    "inputs = np.linspace(0,2*np.pi*cycles,n)\n",
    "noise = np.random.randn(n)*stdev\n",
    "true_data = (5*np.sin(inputs)+30*np.sin(5*inputs/cycles)+20*np.cos(20*inputs/cycles)+2*inputs)/(2*np.pi*cycles)\n",
    "obs_data = true_data+noise\n",
    "obs_data = (obs_data-obs_data.min()*1.01)/(obs_data.max()-obs_data.min()*.8)\n",
    "ydata = pd.DataFrame(obs_data.reshape(-1,1)).shift(-1).dropna().values.reshape(1,-1,1)\n",
    "xdata = obs_data[:-1].reshape(1,-1,1)\n",
    "t = np.arange(xdata.size).reshape(xdata.shape)\n",
    "len(xdata)==len(ydata)\n",
    "\n",
    "# xdata = np.array(l).reshape(-1,100,1)\n",
    "# ydata = np.roll(xdata,-1)"
   ]
  },
  {
   "cell_type": "code",
   "execution_count": 3,
   "metadata": {
    "ExecuteTime": {
     "end_time": "2018-11-06T18:00:04.805360Z",
     "start_time": "2018-11-06T18:00:04.771446Z"
    }
   },
   "outputs": [],
   "source": [
    "class GridLSTM(object):\n",
    "    def __init__(self,units,grid_size,num_classes,max_steps,forget_bias=1):\n",
    "        tf.set_random_seed(1)\n",
    "        self.num_units = units\n",
    "        self.all_loss = []\n",
    "        self.clip_grad_norm = True\n",
    "        self.max_norm_gradient = 1.0\n",
    "        self.num_classes = num_classes\n",
    "        self.grid_size = grid_size\n",
    "        forget_bias = 1.0\n",
    "        self.dtype = tf.float32\n",
    "        self.x = tf.placeholder(dtype=self.dtype,shape=[None,None,self.num_classes])\n",
    "        self.y = tf.placeholder(dtype=self.dtype,shape=[None,None,self.num_classes])\n",
    "        self.global_step = tf.Variable(0, name='global_step', trainable=False)\n",
    "        self.lr = tf.placeholder(dtype=self.dtype,name='learning_rate')\n",
    "        self.batch_size = 1#tf.shape(self.x)[0]\n",
    "        self.max_steps = max_steps\n",
    "        self.x_list = [tf.squeeze(x, axis=[1])\n",
    "                  for x in tf.split(\n",
    "                    axis=1, num_or_size_splits=max_steps,\n",
    "                    value=self.x, name=\"inputs_list\")]\n",
    "        self.hiddens = []\n",
    "        self.cells = []\n",
    "        self.activation = tf.nn.relu\n",
    "        self.w_o = tf.get_variable('w_o',[self.num_classes,self.grid_size])\n",
    "        self.b_o = tf.get_variable('b_o',[self.num_classes])\n",
    "        \n",
    "        self.Wu =tf.get_variable('Wu', [self.num_units*self.grid_size, self.grid_size*self.num_units+1])\n",
    "        self.Wf = tf.get_variable('Wf', [self.num_units*self.grid_size, self.grid_size*self.num_units+1])\n",
    "        self.Wo = tf.get_variable('Wo', [self.num_units*self.grid_size, self.grid_size*self.num_units+1])\n",
    "        self.Wc = tf.get_variable('Wc', [self.num_units*self.grid_size, self.grid_size*self.num_units+1])\n",
    "        \n",
    "        self.bu=tf.get_variable('bu',[self.num_units*self.grid_size,num_classes])\n",
    "        self.bf=tf.get_variable('bf',[self.num_units*self.grid_size,num_classes],initializer=tf.constant_initializer(forget_bias))\n",
    "        self.bo=tf.get_variable('bo',[self.num_units*self.grid_size,num_classes])\n",
    "        self.bc=tf.get_variable('bc',[self.num_units*self.grid_size,num_classes])\n",
    "        \n",
    "        self.H =  tf.zeros((grid_size,num_classes))\n",
    "        self.M = tf.zeros((grid_size,num_classes))\n",
    "        with tf.variable_scope('cell') as scope:           \n",
    "            for t in range(0,max_steps):\n",
    "                if t>0: scope.reuse_variables()\n",
    "\n",
    "                self.input =  tf.concat([self.x_list[t],self.H],axis=0) \n",
    "                self.Gu = tf.sigmoid(tf.matmul(self.Wu,self.input)+self.bu)\n",
    "                self.Gf = tf.sigmoid(tf.matmul(self.Wf,self.input)+self.bf)\n",
    "                self.Go = tf.sigmoid(tf.matmul(self.Wo,self.input)+self.bo)\n",
    "                self.Gc = self.activation(tf.matmul(self.Wc,self.input)+self.bc)\n",
    "\n",
    "                self.M_new = tf.multiply(self.Gu,self.Gc)+tf.multiply(self.Gf,self.M)\n",
    "                self.H_new = self.activation(tf.multiply(self.Go,self.M_new))\n",
    "                self.M = self.M_new\n",
    "                self.H = self.H_new\n",
    "                self.hiddens.append(self.H)\n",
    "                self.cells.append(self.M)\n",
    "\n",
    "                \n",
    "\n",
    "\n",
    "        self.hiddens = tf.concat(self.hiddens,axis=1)\n",
    "        outputs = self.activation(tf.matmul(self.w_o,self.hiddens)+self.b_o)\n",
    "        self.outputs = tf.reshape(outputs,shape=tf.shape(self.x))\n",
    "\n",
    "        self.loss = tf.losses.mean_squared_error(labels=self.y,predictions=self.outputs)\n",
    "        self.optimizer = tf.train.AdamOptimizer(learning_rate=self.lr)\n",
    "\n",
    "        self.grads_vars =self.optimizer.compute_gradients(self.loss)\n",
    "    \n",
    "        self.train_op = self.optimizer.apply_gradients(self.grads_vars,\n",
    "                                                           global_step=self.global_step)\n",
    "\n",
    "    def train_step(self,sess,rate):\n",
    "        _, train_step, train_loss = sess.run([self.train_op,\n",
    "                        self.global_step,\n",
    "                        self.loss],\n",
    "                        {self.x:xdata,\n",
    "                          self.y:ydata,\n",
    "                           self.lr:rate})\n",
    "        self.all_loss.append(train_loss)\n",
    "        return train_step, train_loss\n",
    "        \n",
    "    def get_output(self,sess):\n",
    "        return sess.run([self.outputs,\n",
    "                                    self.hiddens,\n",
    "                                    self.cells],{self.x:xdata,self.y:ydata})\n",
    "    "
   ]
  },
  {
   "cell_type": "code",
   "execution_count": 10,
   "metadata": {
    "ExecuteTime": {
     "end_time": "2018-11-06T18:01:30.378296Z",
     "start_time": "2018-11-06T18:01:02.894086Z"
    }
   },
   "outputs": [
    {
     "name": "stdout",
     "output_type": "stream",
     "text": [
      "1.4002304\n",
      "0.09168643\n",
      "0.07674492\n",
      "0.06834846\n",
      "0.04465781\n",
      "0.01604263\n",
      "0.012204156\n",
      "0.010198815\n",
      "0.008521023\n",
      "0.0070550567\n",
      "0.0066871797\n",
      "0.006599593\n",
      "0.006553495\n",
      "0.0065188115\n",
      "0.006389725\n",
      "0.0062221503\n",
      "0.006169926\n",
      "0.006138301\n",
      "0.0061155893\n",
      "0.0060987286\n"
     ]
    }
   ],
   "source": [
    "tf.reset_default_graph()\n",
    "tf.set_random_seed(1)\n",
    "units =1\n",
    "grid_size = 2\n",
    "num_classes = 1\n",
    "max_steps = np.size(xdata)\n",
    "m = GridLSTM(units,grid_size,num_classes,max_steps)\n",
    "\n",
    "######\n",
    "output_dir = \"./output/\"\n",
    "\n",
    "#######\n",
    "gpu_options = tf.GPUOptions(per_process_gpu_memory_fraction=0.25)\n",
    "sess = tf.Session(config=tf.ConfigProto(\n",
    "        gpu_options=gpu_options,\n",
    "        log_device_placement=False\n",
    "    ))\n",
    "init = tf.global_variables_initializer()\n",
    "sess.run(init)\n",
    "\n",
    "# summary_out_dir = os.path.join(output_dir, \"summaries\")\n",
    "# summary_writer  = tf.summary.FileWriter(summary_out_dir, sess.graph)\n",
    "\n",
    "rate = .01\n",
    "epochs=2000\n",
    "for e in range(epochs):\n",
    "    train_step, train_loss = m.train_step(sess,rate)\n",
    "#     summary_writer.add_summary(train_summary, train_step)\n",
    "    \n",
    "    if e%100==0:\n",
    "        print(train_loss)\n",
    "        output_list = m.get_output(sess)\n",
    "# output_list = m.get_output(sess)\n",
    "# sess.close()\n",
    "pd.DataFrame([output_list[0].flatten(),ydata.flatten()]).T.plot()"
   ]
  },
  {
   "cell_type": "code",
   "execution_count": 11,
   "metadata": {
    "ExecuteTime": {
     "end_time": "2018-11-06T18:01:33.250402Z",
     "start_time": "2018-11-06T18:01:33.093467Z"
    }
   },
   "outputs": [
    {
     "data": {
      "text/plain": [
       "<matplotlib.axes._subplots.AxesSubplot at 0x7ff9f4347a20>"
      ]
     },
     "execution_count": 11,
     "metadata": {},
     "output_type": "execute_result"
    },
    {
     "data": {
      "image/png": "[encoded data removed]",
      "text/plain": [
       "<Figure size 432x288 with 1 Axes>"
      ]
     },
     "metadata": {},
     "output_type": "display_data"
    }
   ],
   "source": [
    "pd.DataFrame([output_list[0].flatten(),ydata.flatten()]).T.plot()"
   ]
  }
 ],
 "metadata": {
  "kernelspec": {
   "display_name": "Python 3",
   "language": "python",
   "name": "python3"
  },
  "language_info": {
   "codemirror_mode": {
    "name": "ipython",
    "version": 3
   },
   "file_extension": ".py",
   "mimetype": "text/x-python",
   "name": "python",
   "nbconvert_exporter": "python",
   "pygments_lexer": "ipython3",
   "version": "3.6.5"
  },
  "varInspector": {
   "cols": {
    "lenName": 16,
    "lenType": 16,
    "lenVar": 40
   },
   "kernels_config": {
    "python": {
     "delete_cmd_postfix": "",
     "delete_cmd_prefix": "del ",
     "library": "var_list.py",
     "varRefreshCmd": "print(var_dic_list())"
    },
    "r": {
     "delete_cmd_postfix": ") ",
     "delete_cmd_prefix": "rm(",
     "library": "var_list.r",
     "varRefreshCmd": "cat(var_dic_list()) "
    }
   },
   "types_to_exclude": [
    "module",
    "function",
    "builtin_function_or_method",
    "instance",
    "_Feature"
   ],
   "window_display": false
  }
 },
 "nbformat": 4,
 "nbformat_minor": 2
}
