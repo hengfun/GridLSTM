{
 "cells": [
  {
   "cell_type": "code",
   "execution_count": 1,
   "metadata": {
    "ExecuteTime": {
     "end_time": "2018-11-09T06:48:57.611470Z",
     "start_time": "2018-11-09T06:48:56.073285Z"
    }
   },
   "outputs": [
    {
     "name": "stderr",
     "output_type": "stream",
     "text": [
      "/home/heng/anaconda3/lib/python3.6/site-packages/h5py/__init__.py:36: FutureWarning: Conversion of the second argument of issubdtype from `float` to `np.floating` is deprecated. In future, it will be treated as `np.float64 == np.dtype(float).type`.\n",
      "  from ._conv import register_converters as _register_converters\n"
     ]
    }
   ],
   "source": [
    "import numpy as np\n",
    "import pandas as pd\n",
    "import tensorflow as tf\n",
    "import tensorflow as tf\n",
    "import os\n",
    "import matplotlib.pyplot as plt\n",
    "\n",
    "%matplotlib inline\n",
    "%load_ext autoreload\n",
    "%autoreload 2"
   ]
  },
  {
   "cell_type": "code",
   "execution_count": 2,
   "metadata": {
    "ExecuteTime": {
     "end_time": "2018-11-09T06:48:57.960419Z",
     "start_time": "2018-11-09T06:48:57.691411Z"
    }
   },
   "outputs": [],
   "source": [
    "mnist = tf.keras.datasets.mnist\n",
    "(x_train, y_train),(x_test, y_test) = mnist.load_data()"
   ]
  },
  {
   "cell_type": "code",
   "execution_count": 4,
   "metadata": {
    "ExecuteTime": {
     "end_time": "2018-11-09T06:49:06.128580Z",
     "start_time": "2018-11-09T06:49:06.107823Z"
    }
   },
   "outputs": [],
   "source": [
    "# xdata2 = np.concatenate([xdata,xdata[:,::-1,:]],axis=2)\n",
    "# ydata2 = np.concatenate([ydata,ydata[:,::-1,:]],axis=2)"
   ]
  },
  {
   "cell_type": "code",
   "execution_count": 37,
   "metadata": {
    "ExecuteTime": {
     "end_time": "2018-11-09T06:58:55.896856Z",
     "start_time": "2018-11-09T06:58:55.874237Z"
    }
   },
   "outputs": [],
   "source": [
    "# x = np.arange(28*28).reshape(28,28)\n",
    "\n",
    "def snake(a):\n",
    "    n,m =a.shape\n",
    "    old_row = 0\n",
    "    data = []\n",
    "    for i in range(0,np.size(a),2):\n",
    "        row = int(i/n)\n",
    "        column1 = i%m\n",
    "        column2 = (i+1)%m\n",
    "#         print(row,column1,column2)\n",
    "        if old_row!=row:\n",
    "            a = np.flip(a,axis=1)\n",
    "#         print(a[row,column1:column2+1])\n",
    "        old_row = row\n",
    "        d = a[row,column1:column2+1]\n",
    "        data.append(d)\n",
    "    return np.array(data)\n",
    "\n",
    "def get_x(x):\n",
    "    pad = np.zeros((28+2,28+2))\n",
    "    pad[1:-1,1:-1] = x\n",
    "    \n",
    "    ax = snake(pad)\n",
    "    ay = snake(pad.T)\n",
    "    a = np.concatenate([ax,ay],axis=1)\n",
    "    \n",
    "    pad = np.rot90(pad)\n",
    "    bx = snake(pad)\n",
    "    by = snake(pad.T)\n",
    "    b = np.concatenate([bx,by],axis=1)\n",
    "    \n",
    "    pad = np.rot90(pad)\n",
    "    cx = snake(pad)\n",
    "    cy = snake(pad.T)\n",
    "    c = np.concatenate([cx,cy],axis=1)\n",
    "    \n",
    "    pad = np.rot90(pad)\n",
    "    dx = snake(pad)\n",
    "    dy = snake(pad.T)\n",
    "    d = np.concatenate([dx,dy],axis=1)\n",
    "\n",
    "    return [a,b,c,d]"
   ]
  },
  {
   "cell_type": "code",
   "execution_count": 49,
   "metadata": {
    "ExecuteTime": {
     "end_time": "2018-11-09T07:00:35.461205Z",
     "start_time": "2018-11-09T07:00:35.425952Z"
    }
   },
   "outputs": [],
   "source": [
    "xdata = np.array([get_x(x_train[i]) for i in range(0,2)])"
   ]
  },
  {
   "cell_type": "code",
   "execution_count": null,
   "metadata": {
    "ExecuteTime": {
     "end_time": "2018-11-08T16:42:11.923576Z",
     "start_time": "2018-11-08T16:42:11.820564Z"
    }
   },
   "outputs": [],
   "source": [
    "from matplotlib import pyplot as plt\n",
    "plt.imshow(np.rot90(np.rot90(np.rot90(x_train[1]))), interpolation='nearest')"
   ]
  },
  {
   "cell_type": "code",
   "execution_count": null,
   "metadata": {
    "ExecuteTime": {
     "end_time": "2018-11-08T16:18:15.006788Z",
     "start_time": "2018-11-08T16:18:14.977179Z"
    }
   },
   "outputs": [],
   "source": [
    "# generate data\n",
    "np.random.seed(0)\n",
    "latent_size = 5\n",
    "n = 51\n",
    "num_steps =5\n",
    "n_inputs = 1\n",
    "\n",
    "cycles = 25\n",
    "stdev = .07\n",
    "inputs = np.linspace(0,2*np.pi*cycles,n)\n",
    "noise = np.random.randn(n)*stdev\n",
    "true_data = (5*np.sin(inputs)+30*np.sin(5*inputs/cycles)+20*np.cos(20*inputs/cycles)+2*inputs)/(2*np.pi*cycles)\n",
    "obs_data = true_data+noise\n",
    "obs_data = (obs_data-obs_data.min()*1.01)/(obs_data.max()-obs_data.min()*.8)\n",
    "ydata = pd.DataFrame(obs_data.reshape(-1,1)).shift(-1).dropna().values.reshape(1,-1,1)\n",
    "xdata = obs_data[:-1].reshape(1,-1,1)\n",
    "t = np.arange(xdata.size).reshape(xdata.shape)\n",
    "len(xdata)==len(ydata)\n",
    "\n",
    "# xdata = np.array(l).reshape(-1,100,1)\n",
    "# ydata = np.roll(xdata,-1)"
   ]
  },
  {
   "cell_type": "code",
   "execution_count": null,
   "metadata": {},
   "outputs": [],
   "source": [
    "self.input2 =  tf.concat([self.x2_list[t],self.H],axis=0) "
   ]
  },
  {
   "cell_type": "code",
   "execution_count": null,
   "metadata": {},
   "outputs": [],
   "source": [
    "self.input3 =  tf.concat([self.x3_list[t],self.H],axis=0) "
   ]
  },
  {
   "cell_type": "code",
   "execution_count": null,
   "metadata": {},
   "outputs": [],
   "source": [
    "self.input4 =  tf.concat([self.x4_list[t],self.H],axis=0) "
   ]
  },
  {
   "cell_type": "code",
   "execution_count": 197,
   "metadata": {
    "ExecuteTime": {
     "end_time": "2018-11-09T07:30:38.030854Z",
     "start_time": "2018-11-09T07:30:37.978906Z"
    }
   },
   "outputs": [],
   "source": [
    "class GridLSTM(object):\n",
    "    def __init__(self,units,grid_size,num_classes,max_steps,forget_bias=1):\n",
    "        tf.set_random_seed(1)\n",
    "        self.num_units = units\n",
    "        self.all_loss = []\n",
    "        self.clip_grad_norm = True\n",
    "        self.max_norm_gradient = 1.0\n",
    "        self.num_classes = num_classes\n",
    "        self.grid_size = grid_size\n",
    "        forget_bias = 1.0\n",
    "        self.dtype = tf.float32\n",
    "        \n",
    "        self.x1 = tf.placeholder(dtype=self.dtype,shape=[None,None,self.num_classes])\n",
    "        self.x2 = tf.placeholder(dtype=self.dtype,shape=[None,None,self.num_classes])\n",
    "        self.x3 = tf.placeholder(dtype=self.dtype,shape=[None,None,self.num_classes])\n",
    "        self.x4 = tf.placeholder(dtype=self.dtype,shape=[None,None,self.num_classes])\n",
    "        \n",
    "        self.y = tf.placeholder(dtype=self.dtype,shape=[None,None,self.num_classes])\n",
    "        self.global_step = tf.Variable(0, name='global_step', trainable=False)\n",
    "        self.lr = tf.placeholder(dtype=self.dtype,name='learning_rate')\n",
    "        self.batch_size = tf.shape(self.x1)[0]\n",
    "        self.max_steps = max_steps\n",
    "        self.x1_list = [tf.squeeze(x, axis=[1])\n",
    "                  for x in tf.split(\n",
    "                    axis=1, num_or_size_splits=max_steps,\n",
    "                    value=tf.transpose(self.x1), name=\"inputs_list\")]\n",
    "        self.x2_list = [tf.squeeze(x, axis=[1])\n",
    "                  for x in tf.split(\n",
    "                    axis=1, num_or_size_splits=max_steps,\n",
    "                    value=tf.transpose(self.x2), name=\"inputs_list\")]\n",
    "        self.x3_list = [tf.squeeze(x, axis=[1])\n",
    "                  for x in tf.split(\n",
    "                    axis=1, num_or_size_splits=max_steps,\n",
    "                    value=tf.transpose(self.x3), name=\"inputs_list\")]\n",
    "        self.x4_list = [tf.squeeze(x, axis=[1])\n",
    "                  for x in tf.split(\n",
    "                    axis=1, num_or_size_splits=max_steps,\n",
    "                    value=tf.transpose(self.x4), name=\"inputs_list\")]        \n",
    "        self.hiddens = []\n",
    "        self.cells = []\n",
    "        self.activation = tf.nn.relu\n",
    "        self.w_o = tf.get_variable('w_o',[self.grid_size*2,self.num_classes])\n",
    "        self.b_o = tf.get_variable('b_o',[self.num_classes])\n",
    "        \n",
    "        #first layer\n",
    "        self.Wu =tf.get_variable('Wu', [self.num_units*self.grid_size, self.grid_size*self.num_units*4+self.num_classes])\n",
    "        self.Wf = tf.get_variable('Wf', [self.num_units*self.grid_size, self.grid_size*self.num_units*4+self.num_classes])\n",
    "        self.Wo = tf.get_variable('Wo', [self.num_units*self.grid_size, self.grid_size*self.num_units*4+self.num_classes])\n",
    "        self.Wc = tf.get_variable('Wc', [self.num_units*self.grid_size, self.grid_size*self.num_units*4+self.num_classes])\n",
    "        \n",
    "        self.bu=tf.get_variable('bu',[self.num_units*self.grid_size,self.num_units])\n",
    "        self.bf=tf.get_variable('bf',[self.num_units*self.grid_size,self.num_units],initializer=tf.constant_initializer(forget_bias))\n",
    "        self.bo=tf.get_variable('bo',[self.num_units*self.grid_size,self.num_units])\n",
    "        self.bc=tf.get_variable('bc',[self.num_units*self.grid_size,self.num_units])\n",
    "\n",
    "        #second layer\n",
    "        self.Wu2 =tf.get_variable('Wu2', [self.num_units*self.grid_size, self.grid_size*self.num_units*4+self.num_classes])\n",
    "        self.Wf2 = tf.get_variable('Wf2', [self.num_units*self.grid_size, self.grid_size*self.num_units*4+self.num_classes])\n",
    "        self.Wo2 = tf.get_variable('Wo2', [self.num_units*self.grid_size, self.grid_size*self.num_units*4+self.num_classes])\n",
    "        self.Wc2 = tf.get_variable('Wc2', [self.num_units*self.grid_size, self.grid_size*self.num_units*4+self.num_classes])\n",
    "        \n",
    "        self.bu2=tf.get_variable('bu2',[self.num_units*self.grid_size,self.num_units])\n",
    "        self.bf2=tf.get_variable('bf2',[self.num_units*self.grid_size,self.num_units],initializer=tf.constant_initializer(forget_bias))\n",
    "        self.bo2=tf.get_variable('bo2',[self.num_units*self.grid_size,self.num_units])\n",
    "        self.bc2=tf.get_variable('bc2',[self.num_units*self.grid_size,self.num_units])\n",
    "        \n",
    "        #third layer\n",
    "        self.Wu3 =tf.get_variable('Wu3', [self.num_units*self.grid_size, self.grid_size*self.num_units*4+self.num_classes])\n",
    "        self.Wf3 = tf.get_variable('Wf3', [self.num_units*self.grid_size, self.grid_size*self.num_units*4+self.num_classes])\n",
    "        self.Wo3 = tf.get_variable('Wo3', [self.num_units*self.grid_size, self.grid_size*self.num_units*4+self.num_classes])\n",
    "        self.Wc3 = tf.get_variable('Wc3', [self.num_units*self.grid_size, self.grid_size*self.num_units*4+self.num_classes])\n",
    "        \n",
    "        self.bu3=tf.get_variable('bu3',[self.num_units*self.grid_size,self.num_units])\n",
    "        self.bf3=tf.get_variable('bf3',[self.num_units*self.grid_size,self.num_units],initializer=tf.constant_initializer(forget_bias))\n",
    "        self.bo3=tf.get_variable('bo3',[self.num_units*self.grid_size,self.num_units])\n",
    "        self.bc3=tf.get_variable('bc3',[self.num_units*self.grid_size,self.num_units]) \n",
    "\n",
    "        #fourth layer\n",
    "        self.Wu4 =tf.get_variable('Wu4', [self.num_units*self.grid_size, self.grid_size*self.num_units*4+self.num_classes])\n",
    "        self.Wf4 = tf.get_variable('Wf4', [self.num_units*self.grid_size, self.grid_size*self.num_units*4+self.num_classes])\n",
    "        self.Wo4 = tf.get_variable('Wo4', [self.num_units*self.grid_size, self.grid_size*self.num_units*4+self.num_classes])\n",
    "        self.Wc4 = tf.get_variable('Wc4', [self.num_units*self.grid_size, self.grid_size*self.num_units*4+self.num_classes])\n",
    "        \n",
    "        self.bu4=tf.get_variable('bu4',[self.num_units*self.grid_size,self.num_units])\n",
    "        self.bf4=tf.get_variable('bf4',[self.num_units*self.grid_size,self.num_units],initializer=tf.constant_initializer(forget_bias))\n",
    "        self.bo4=tf.get_variable('bo4',[self.num_units*self.grid_size,self.num_units])\n",
    "        self.bc4=tf.get_variable('bc4',[self.num_units*self.grid_size,self.num_units])\n",
    "        \n",
    "#         #second layer\n",
    "#         self.Wu2 =tf.get_variable('Wu2', [self.num_units*self.grid_size, self.grid_size*self.num_units+self.grid_size*2])\n",
    "#         self.Wf2 = tf.get_variable('Wf2', [self.num_units*self.grid_size, self.grid_size*self.num_units+self.grid_size*2])\n",
    "#         self.Wo2 = tf.get_variable('Wo2', [self.num_units*self.grid_size, self.grid_size*self.num_units+self.grid_size*2])\n",
    "#         self.Wc2 = tf.get_variable('Wc2', [self.num_units*self.grid_size, self.grid_size*self.num_units+self.grid_size*2])\n",
    "        \n",
    "#         self.bu2=tf.get_variable('bu2',[self.num_units*self.grid_size,self.num_units])\n",
    "#         self.bf2=tf.get_variable('bf2',[self.num_units*self.grid_size,self.num_units],initializer=tf.constant_initializer(forget_bias))\n",
    "#         self.bo2=tf.get_variable('bo2',[self.num_units*self.grid_size,self.num_units])\n",
    "#         self.bc2=tf.get_variable('bc2',[self.num_units*self.grid_size,self.num_units])        \n",
    "        \n",
    "\n",
    "        \n",
    "        self.H1 =  tf.zeros((grid_size,self.num_units,self.batch_size))\n",
    "        self.M1 = tf.zeros((grid_size,self.num_units,self.batch_size))\n",
    "        self.H2 =  tf.zeros((grid_size,self.num_units,self.batch_size))\n",
    "        self.M2 = tf.zeros((grid_size,self.num_units,self.batch_size))\n",
    "        self.H3 =  tf.zeros((grid_size,self.num_units,self.batch_size))\n",
    "        self.M3 = tf.zeros((grid_size,self.num_units,self.batch_size))\n",
    "        self.H4 =  tf.zeros((grid_size,self.num_units,self.batch_size))\n",
    "        self.M4 = tf.zeros((grid_size,self.num_units,self.batch_size))    \n",
    "        self.H = tf.concat([self.H1,self.H2,self.H3,self.H4],axis=0)\n",
    "        self.M = tf.concat([self.M1,self.M2,self.M3,self.M4],axis=0)        \n",
    "        with tf.variable_scope('cell') as scope:           \n",
    "            for t in range(0,2):\n",
    "                if t>0: scope.reuse_variables()\n",
    "                #first layer\n",
    "                self.H = tf.reshape(self.H,shape=[-1,self.num_units*self.batch_size])\n",
    "                self.input1 =  tf.concat([self.x1_list[t],self.H],axis=0) \n",
    "#                 self.Gu = tf.sigmoid(tf.matmul(self.Wu,self.input1)+self.bu)\n",
    "#                 self.Gf = tf.sigmoid(tf.matmul(self.Wf,self.input1)+self.bf)\n",
    "#                 self.Go = tf.sigmoid(tf.matmul(self.Wo,self.input1)+self.bo)\n",
    "#                 self.Gc = self.activation(tf.matmul(self.Wc,self.input1)+self.bc)\n",
    "\n",
    "#                 self.M_new1 = tf.multiply(self.Gu,self.Gc)+tf.multiply(self.Gf,self.M1)\n",
    "#                 self.H_new1 = self.activation(tf.multiply(self.Go,self.M_new1))\n",
    "#                 self.M1 = self.M_new1\n",
    "#                 self.H1 = self.H_new1\n",
    "                \n",
    "#                 self.input2 =  tf.concat([self.x2_list[t],self.H],axis=0) \n",
    "#                 self.Gu2 = tf.sigmoid(tf.matmul(self.Wu2,self.input2)+self.bu2)\n",
    "#                 self.Gf2 = tf.sigmoid(tf.matmul(self.Wf2,self.input2)+self.bf2)\n",
    "#                 self.Go2 = tf.sigmoid(tf.matmul(self.Wo2,self.input2)+self.bo2)\n",
    "#                 self.Gc2 = self.activation(tf.matmul(self.Wc2,self.input2)+self.bc2)\n",
    "\n",
    "#                 self.M_new2 = tf.multiply(self.Gu2,self.Gc2)+tf.multiply(self.Gf2,self.M2)\n",
    "#                 self.H_new2 = self.activation(tf.multiply(self.Go2,self.M_new2))\n",
    "#                 self.M2 = self.M_new2\n",
    "#                 self.H2 = self.H_new2                \n",
    "                \n",
    "#                 self.input3 =  tf.concat([self.x3_list[t],self.H],axis=0) \n",
    "#                 self.Gu3 = tf.sigmoid(tf.matmul(self.Wu3,self.input3)+self.bu3)\n",
    "#                 self.Gf3 = tf.sigmoid(tf.matmul(self.Wf3,self.input3)+self.bf3)\n",
    "#                 self.Go3 = tf.sigmoid(tf.matmul(self.Wo3,self.input3)+self.bo3)\n",
    "#                 self.Gc3 = self.activation(tf.matmul(self.Wc3,self.input3)+self.bc3)\n",
    "\n",
    "#                 self.M_new3 = tf.multiply(self.Gu3,self.Gc3)+tf.multiply(self.Gf3,self.M3)\n",
    "#                 self.H_new3 = self.activation(tf.multiply(self.Go3,self.M_new3))\n",
    "#                 self.M3 = self.M_new3\n",
    "#                 self.H3 = self.H_new3\n",
    "                \n",
    "#                 self.input4 =  tf.concat([self.x4_list[t],self.H],axis=0) \n",
    "#                 self.Gu4 = tf.sigmoid(tf.matmul(self.Wu4,self.input4)+self.bu4)\n",
    "#                 self.Gf4 = tf.sigmoid(tf.matmul(self.Wf4,self.input4)+self.bf4)\n",
    "#                 self.Go4 = tf.sigmoid(tf.matmul(self.Wo4,self.input4)+self.bo4)\n",
    "#                 self.Gc4 = self.activation(tf.matmul(self.Wc4,self.input4)+self.bc4)\n",
    "\n",
    "#                 self.M_new4 = tf.multiply(self.Gu4,self.Gc4)+tf.multiply(self.Gf4,self.M4)\n",
    "#                 self.H_new4 = self.activation(tf.multiply(self.Go4,self.M_new4))\n",
    "#                 self.M4 = self.M_new4\n",
    "#                 self.H4 = self.H_new4             \n",
    "\n",
    "#                 self.H = tf.concat([self.H1,self.H2,self.H3,self.H4],axis=0)\n",
    "#                 self.M = tf.concat([self.M1,self.M2,self.M3,self.M4],axis=0)\n",
    "                \n",
    "                \n",
    "                \n",
    "#                 #second layer\n",
    "#                 self.input2 = tf.concat([tf.concat([self.H,self.M],axis=0),self.H2],axis=0)\n",
    "#                 self.Gu2 = tf.sigmoid(tf.matmul(self.Wu2,self.input2)+self.bu2)\n",
    "#                 self.Gf2 = tf.sigmoid(tf.matmul(self.Wf2,self.input2)+self.bf2)\n",
    "#                 self.Go2 = tf.sigmoid(tf.matmul(self.Wo2,self.input2)+self.bo2)\n",
    "#                 self.Gc2 = self.activation(tf.matmul(self.Wc2,self.input2)+self.bc2)\n",
    "\n",
    "#                 self.M_new2 = tf.multiply(self.Gu2,self.Gc2)+tf.multiply(self.Gf2,self.M2)\n",
    "#                 self.H_new2 = self.activation(tf.multiply(self.Go2,self.M_new2))\n",
    "#                 self.M2 = self.M_new2\n",
    "#                 self.H2 = self.H_new2             \n",
    "\n",
    "#                 self.hiddens.append(self.H)\n",
    "#                 self.cells.append(self.M)\n",
    "\n",
    "#         self.hiddens = tf.concat(self.hiddens,axis=1)\n",
    "#         self.cells = tf.concat(self.cells,axis=1)\n",
    "#         self.cell_hidden = tf.concat([self.cells,self.hiddens],axis=0)\n",
    "        \n",
    "#         self.outputs = self.activation(tf.matmul(self.cell_hidden,self.w_o)+self.b_o)\n",
    "#         self.outputs = tf.reshape(self.outputs,shape=tf.shape(self.x))\n",
    "        \n",
    "\n",
    "#         self.loss = tf.losses.mean_squared_error(labels=self.y,predictions=self.outputs)\n",
    "#         self.optimizer = tf.train.AdamOptimizer(learning_rate=self.lr)\n",
    "\n",
    "#         self.grads_vars =self.optimizer.compute_gradients(self.loss)\n",
    "    \n",
    "#         self.train_op = self.optimizer.apply_gradients(self.grads_vars,\n",
    "#                                                            global_step=self.global_step)\n",
    "\n",
    "    def train_step(self,sess,rate):\n",
    "        _, train_step, train_loss = sess.run([self.train_op,\n",
    "                        self.global_step,\n",
    "                        self.loss],\n",
    "                        {self.x:xdata2,\n",
    "                          self.y:ydata2,\n",
    "                           self.lr:rate})\n",
    "        self.all_loss.append(train_loss)\n",
    "        return train_step, train_loss\n",
    "        \n",
    "    def get_output(self,sess):\n",
    "        return sess.run([self.outputs,\n",
    "                                    self.hiddens,\n",
    "                                    self.cells],{self.x:xdata2,self.y:ydata2})\n",
    "    "
   ]
  },
  {
   "cell_type": "code",
   "execution_count": 198,
   "metadata": {
    "ExecuteTime": {
     "end_time": "2018-11-09T07:30:40.133752Z",
     "start_time": "2018-11-09T07:30:38.469518Z"
    }
   },
   "outputs": [],
   "source": [
    "tf.reset_default_graph()\n",
    "tf.set_random_seed(1)\n",
    "units =1\n",
    "grid_size = 2\n",
    "num_classes = 4\n",
    "# max_steps = np.shape(xdata2)[1]\n",
    "max_steps = np.shape(xdata[0])[1]\n",
    "m = GridLSTM(units,grid_size,num_classes,max_steps)\n",
    "\n",
    "######\n",
    "output_dir = \"./output/\"\n",
    "\n",
    "#######\n",
    "gpu_options = tf.GPUOptions(per_process_gpu_memory_fraction=0.25)\n",
    "sess = tf.Session(config=tf.ConfigProto(\n",
    "        gpu_options=gpu_options,\n",
    "        log_device_placement=False\n",
    "    ))\n",
    "init = tf.global_variables_initializer()\n",
    "sess.run(init)"
   ]
  },
  {
   "cell_type": "code",
   "execution_count": 199,
   "metadata": {
    "ExecuteTime": {
     "end_time": "2018-11-09T07:30:40.258757Z",
     "start_time": "2018-11-09T07:30:40.233337Z"
    }
   },
   "outputs": [],
   "source": [
    "feed_dict = {m.x1:xdata[:,0,:,:],m.x2:xdata[:,1,:,:],m.x3:xdata[:,2,:,:],m.x4:xdata[:,3,:,:]}"
   ]
  },
  {
   "cell_type": "code",
   "execution_count": 203,
   "metadata": {
    "ExecuteTime": {
     "end_time": "2018-11-09T07:31:16.099714Z",
     "start_time": "2018-11-09T07:31:15.990868Z"
    }
   },
   "outputs": [
    {
     "data": {
      "text/plain": [
       "(2, 2)"
      ]
     },
     "execution_count": 203,
     "metadata": {},
     "output_type": "execute_result"
    }
   ],
   "source": [
    "sess.run( tf.sigmoid(tf.matmul(m.Wu,m.input1))+m.bu,,feed_dict).shape"
   ]
  },
  {
   "cell_type": "code",
   "execution_count": 190,
   "metadata": {
    "ExecuteTime": {
     "end_time": "2018-11-09T07:28:38.209052Z",
     "start_time": "2018-11-09T07:28:38.166936Z"
    }
   },
   "outputs": [
    {
     "data": {
      "text/plain": [
       "(8, 2)"
      ]
     },
     "execution_count": 190,
     "metadata": {},
     "output_type": "execute_result"
    }
   ],
   "source": [
    "sess.run(m.H,feed_dict).shape"
   ]
  },
  {
   "cell_type": "code",
   "execution_count": 54,
   "metadata": {
    "ExecuteTime": {
     "end_time": "2018-11-09T07:01:23.450876Z",
     "start_time": "2018-11-09T07:01:23.391425Z"
    },
    "collapsed": true
   },
   "outputs": [
    {
     "ename": "InvalidArgumentError",
     "evalue": "ConcatOp : Dimensions of inputs should match: shape[0] = [4,2] vs. shape[1] = [8,1]\n\t [[{{node cell/concat_3}} = ConcatV2[N=2, T=DT_FLOAT, Tidx=DT_INT32, _device=\"/job:localhost/replica:0/task:0/device:CPU:0\"](cell/transpose_3, concat, cell/concat_2694/axis)]]\n\nCaused by op 'cell/concat_3', defined at:\n  File \"/home/heng/anaconda3/lib/python3.6/runpy.py\", line 193, in _run_module_as_main\n    \"__main__\", mod_spec)\n  File \"/home/heng/anaconda3/lib/python3.6/runpy.py\", line 85, in _run_code\n    exec(code, run_globals)\n  File \"/home/heng/anaconda3/lib/python3.6/site-packages/ipykernel_launcher.py\", line 16, in <module>\n    app.launch_new_instance()\n  File \"/home/heng/anaconda3/lib/python3.6/site-packages/traitlets/config/application.py\", line 658, in launch_instance\n    app.start()\n  File \"/home/heng/anaconda3/lib/python3.6/site-packages/ipykernel/kernelapp.py\", line 486, in start\n    self.io_loop.start()\n  File \"/home/heng/anaconda3/lib/python3.6/site-packages/tornado/platform/asyncio.py\", line 127, in start\n    self.asyncio_loop.run_forever()\n  File \"/home/heng/anaconda3/lib/python3.6/asyncio/base_events.py\", line 422, in run_forever\n    self._run_once()\n  File \"/home/heng/anaconda3/lib/python3.6/asyncio/base_events.py\", line 1432, in _run_once\n    handle._run()\n  File \"/home/heng/anaconda3/lib/python3.6/asyncio/events.py\", line 145, in _run\n    self._callback(*self._args)\n  File \"/home/heng/anaconda3/lib/python3.6/site-packages/tornado/platform/asyncio.py\", line 117, in _handle_events\n    handler_func(fileobj, events)\n  File \"/home/heng/anaconda3/lib/python3.6/site-packages/tornado/stack_context.py\", line 276, in null_wrapper\n    return fn(*args, **kwargs)\n  File \"/home/heng/anaconda3/lib/python3.6/site-packages/zmq/eventloop/zmqstream.py\", line 450, in _handle_events\n    self._handle_recv()\n  File \"/home/heng/anaconda3/lib/python3.6/site-packages/zmq/eventloop/zmqstream.py\", line 480, in _handle_recv\n    self._run_callback(callback, msg)\n  File \"/home/heng/anaconda3/lib/python3.6/site-packages/zmq/eventloop/zmqstream.py\", line 432, in _run_callback\n    callback(*args, **kwargs)\n  File \"/home/heng/anaconda3/lib/python3.6/site-packages/tornado/stack_context.py\", line 276, in null_wrapper\n    return fn(*args, **kwargs)\n  File \"/home/heng/anaconda3/lib/python3.6/site-packages/ipykernel/kernelbase.py\", line 283, in dispatcher\n    return self.dispatch_shell(stream, msg)\n  File \"/home/heng/anaconda3/lib/python3.6/site-packages/ipykernel/kernelbase.py\", line 233, in dispatch_shell\n    handler(stream, idents, msg)\n  File \"/home/heng/anaconda3/lib/python3.6/site-packages/ipykernel/kernelbase.py\", line 399, in execute_request\n    user_expressions, allow_stdin)\n  File \"/home/heng/anaconda3/lib/python3.6/site-packages/ipykernel/ipkernel.py\", line 208, in do_execute\n    res = shell.run_cell(code, store_history=store_history, silent=silent)\n  File \"/home/heng/anaconda3/lib/python3.6/site-packages/ipykernel/zmqshell.py\", line 537, in run_cell\n    return super(ZMQInteractiveShell, self).run_cell(*args, **kwargs)\n  File \"/home/heng/anaconda3/lib/python3.6/site-packages/IPython/core/interactiveshell.py\", line 2662, in run_cell\n    raw_cell, store_history, silent, shell_futures)\n  File \"/home/heng/anaconda3/lib/python3.6/site-packages/IPython/core/interactiveshell.py\", line 2785, in _run_cell\n    interactivity=interactivity, compiler=compiler, result=result)\n  File \"/home/heng/anaconda3/lib/python3.6/site-packages/IPython/core/interactiveshell.py\", line 2903, in run_ast_nodes\n    if self.run_code(code, result):\n  File \"/home/heng/anaconda3/lib/python3.6/site-packages/IPython/core/interactiveshell.py\", line 2963, in run_code\n    exec(code_obj, self.user_global_ns, self.user_ns)\n  File \"<ipython-input-26-1613db806308>\", line 8, in <module>\n    m = GridLSTM(units,grid_size,num_classes,max_steps)\n  File \"<ipython-input-25-33917d200677>\", line 149, in __init__\n    self.input4 =  tf.concat([tf.transpose(self.x4_list[t],[1,0]),self.H],axis=0)\n  File \"/home/heng/anaconda3/lib/python3.6/site-packages/tensorflow/python/ops/array_ops.py\", line 1124, in concat\n    return gen_array_ops.concat_v2(values=values, axis=axis, name=name)\n  File \"/home/heng/anaconda3/lib/python3.6/site-packages/tensorflow/python/ops/gen_array_ops.py\", line 1033, in concat_v2\n    \"ConcatV2\", values=values, axis=axis, name=name)\n  File \"/home/heng/anaconda3/lib/python3.6/site-packages/tensorflow/python/framework/op_def_library.py\", line 787, in _apply_op_helper\n    op_def=op_def)\n  File \"/home/heng/anaconda3/lib/python3.6/site-packages/tensorflow/python/util/deprecation.py\", line 488, in new_func\n    return func(*args, **kwargs)\n  File \"/home/heng/anaconda3/lib/python3.6/site-packages/tensorflow/python/framework/ops.py\", line 3272, in create_op\n    op_def=op_def)\n  File \"/home/heng/anaconda3/lib/python3.6/site-packages/tensorflow/python/framework/ops.py\", line 1768, in __init__\n    self._traceback = tf_stack.extract_stack()\n\nInvalidArgumentError (see above for traceback): ConcatOp : Dimensions of inputs should match: shape[0] = [4,2] vs. shape[1] = [8,1]\n\t [[{{node cell/concat_3}} = ConcatV2[N=2, T=DT_FLOAT, Tidx=DT_INT32, _device=\"/job:localhost/replica:0/task:0/device:CPU:0\"](cell/transpose_3, concat, cell/concat_2694/axis)]]\n",
     "output_type": "error",
     "traceback": [
      "\u001b[0;31m---------------------------------------------------------------------------\u001b[0m",
      "\u001b[0;31mInvalidArgumentError\u001b[0m                      Traceback (most recent call last)",
      "\u001b[0;32m~/anaconda3/lib/python3.6/site-packages/tensorflow/python/client/session.py\u001b[0m in \u001b[0;36m_do_call\u001b[0;34m(self, fn, *args)\u001b[0m\n\u001b[1;32m   1291\u001b[0m     \u001b[0;32mtry\u001b[0m\u001b[0;34m:\u001b[0m\u001b[0;34m\u001b[0m\u001b[0m\n\u001b[0;32m-> 1292\u001b[0;31m       \u001b[0;32mreturn\u001b[0m \u001b[0mfn\u001b[0m\u001b[0;34m(\u001b[0m\u001b[0;34m*\u001b[0m\u001b[0margs\u001b[0m\u001b[0;34m)\u001b[0m\u001b[0;34m\u001b[0m\u001b[0m\n\u001b[0m\u001b[1;32m   1293\u001b[0m     \u001b[0;32mexcept\u001b[0m \u001b[0merrors\u001b[0m\u001b[0;34m.\u001b[0m\u001b[0mOpError\u001b[0m \u001b[0;32mas\u001b[0m \u001b[0me\u001b[0m\u001b[0;34m:\u001b[0m\u001b[0;34m\u001b[0m\u001b[0m\n",
      "\u001b[0;32m~/anaconda3/lib/python3.6/site-packages/tensorflow/python/client/session.py\u001b[0m in \u001b[0;36m_run_fn\u001b[0;34m(feed_dict, fetch_list, target_list, options, run_metadata)\u001b[0m\n\u001b[1;32m   1276\u001b[0m       return self._call_tf_sessionrun(\n\u001b[0;32m-> 1277\u001b[0;31m           options, feed_dict, fetch_list, target_list, run_metadata)\n\u001b[0m\u001b[1;32m   1278\u001b[0m \u001b[0;34m\u001b[0m\u001b[0m\n",
      "\u001b[0;32m~/anaconda3/lib/python3.6/site-packages/tensorflow/python/client/session.py\u001b[0m in \u001b[0;36m_call_tf_sessionrun\u001b[0;34m(self, options, feed_dict, fetch_list, target_list, run_metadata)\u001b[0m\n\u001b[1;32m   1366\u001b[0m         \u001b[0mself\u001b[0m\u001b[0;34m.\u001b[0m\u001b[0m_session\u001b[0m\u001b[0;34m,\u001b[0m \u001b[0moptions\u001b[0m\u001b[0;34m,\u001b[0m \u001b[0mfeed_dict\u001b[0m\u001b[0;34m,\u001b[0m \u001b[0mfetch_list\u001b[0m\u001b[0;34m,\u001b[0m \u001b[0mtarget_list\u001b[0m\u001b[0;34m,\u001b[0m\u001b[0;34m\u001b[0m\u001b[0m\n\u001b[0;32m-> 1367\u001b[0;31m         run_metadata)\n\u001b[0m\u001b[1;32m   1368\u001b[0m \u001b[0;34m\u001b[0m\u001b[0m\n",
      "\u001b[0;31mInvalidArgumentError\u001b[0m: ConcatOp : Dimensions of inputs should match: shape[0] = [4,2] vs. shape[1] = [8,1]\n\t [[{{node cell/concat_3}} = ConcatV2[N=2, T=DT_FLOAT, Tidx=DT_INT32, _device=\"/job:localhost/replica:0/task:0/device:CPU:0\"](cell/transpose_3, concat, cell/concat_2694/axis)]]",
      "\nDuring handling of the above exception, another exception occurred:\n",
      "\u001b[0;31mInvalidArgumentError\u001b[0m                      Traceback (most recent call last)",
      "\u001b[0;32m<ipython-input-54-26ec5084ffdd>\u001b[0m in \u001b[0;36m<module>\u001b[0;34m()\u001b[0m\n\u001b[1;32m      1\u001b[0m \u001b[0mfeed_dict\u001b[0m \u001b[0;34m=\u001b[0m \u001b[0;34m{\u001b[0m\u001b[0mm\u001b[0m\u001b[0;34m.\u001b[0m\u001b[0mx1\u001b[0m\u001b[0;34m:\u001b[0m\u001b[0mxdata\u001b[0m\u001b[0;34m[\u001b[0m\u001b[0;34m:\u001b[0m\u001b[0;34m,\u001b[0m\u001b[0;36m0\u001b[0m\u001b[0;34m,\u001b[0m\u001b[0;34m:\u001b[0m\u001b[0;34m,\u001b[0m\u001b[0;34m:\u001b[0m\u001b[0;34m]\u001b[0m\u001b[0;34m,\u001b[0m\u001b[0mm\u001b[0m\u001b[0;34m.\u001b[0m\u001b[0mx2\u001b[0m\u001b[0;34m:\u001b[0m\u001b[0mxdata\u001b[0m\u001b[0;34m[\u001b[0m\u001b[0;34m:\u001b[0m\u001b[0;34m,\u001b[0m\u001b[0;36m1\u001b[0m\u001b[0;34m,\u001b[0m\u001b[0;34m:\u001b[0m\u001b[0;34m,\u001b[0m\u001b[0;34m:\u001b[0m\u001b[0;34m]\u001b[0m\u001b[0;34m,\u001b[0m\u001b[0mm\u001b[0m\u001b[0;34m.\u001b[0m\u001b[0mx3\u001b[0m\u001b[0;34m:\u001b[0m\u001b[0mxdata\u001b[0m\u001b[0;34m[\u001b[0m\u001b[0;34m:\u001b[0m\u001b[0;34m,\u001b[0m\u001b[0;36m2\u001b[0m\u001b[0;34m,\u001b[0m\u001b[0;34m:\u001b[0m\u001b[0;34m,\u001b[0m\u001b[0;34m:\u001b[0m\u001b[0;34m]\u001b[0m\u001b[0;34m,\u001b[0m\u001b[0mm\u001b[0m\u001b[0;34m.\u001b[0m\u001b[0mx4\u001b[0m\u001b[0;34m:\u001b[0m\u001b[0mxdata\u001b[0m\u001b[0;34m[\u001b[0m\u001b[0;34m:\u001b[0m\u001b[0;34m,\u001b[0m\u001b[0;36m3\u001b[0m\u001b[0;34m,\u001b[0m\u001b[0;34m:\u001b[0m\u001b[0;34m,\u001b[0m\u001b[0;34m:\u001b[0m\u001b[0;34m]\u001b[0m\u001b[0;34m}\u001b[0m\u001b[0;34m\u001b[0m\u001b[0m\n\u001b[0;32m----> 2\u001b[0;31m \u001b[0ma\u001b[0m \u001b[0;34m=\u001b[0m \u001b[0msess\u001b[0m\u001b[0;34m.\u001b[0m\u001b[0mrun\u001b[0m\u001b[0;34m(\u001b[0m\u001b[0mm\u001b[0m\u001b[0;34m.\u001b[0m\u001b[0mhiddens\u001b[0m\u001b[0;34m,\u001b[0m\u001b[0mfeed_dict\u001b[0m\u001b[0;34m)\u001b[0m\u001b[0;34m\u001b[0m\u001b[0m\n\u001b[0m\u001b[1;32m      3\u001b[0m \u001b[0mb\u001b[0m \u001b[0;34m=\u001b[0m \u001b[0msess\u001b[0m\u001b[0;34m.\u001b[0m\u001b[0mrun\u001b[0m\u001b[0;34m(\u001b[0m\u001b[0mm\u001b[0m\u001b[0;34m.\u001b[0m\u001b[0mcells\u001b[0m\u001b[0;34m,\u001b[0m\u001b[0mfeed_dict\u001b[0m\u001b[0;34m)\u001b[0m\u001b[0;34m\u001b[0m\u001b[0m\n\u001b[1;32m      4\u001b[0m \u001b[0mc\u001b[0m \u001b[0;34m=\u001b[0m \u001b[0msess\u001b[0m\u001b[0;34m.\u001b[0m\u001b[0mrun\u001b[0m\u001b[0;34m(\u001b[0m\u001b[0mm\u001b[0m\u001b[0;34m.\u001b[0m\u001b[0mcell_hidden\u001b[0m\u001b[0;34m,\u001b[0m\u001b[0mfeed_dict\u001b[0m\u001b[0;34m)\u001b[0m\u001b[0;34m\u001b[0m\u001b[0m\n",
      "\u001b[0;32m~/anaconda3/lib/python3.6/site-packages/tensorflow/python/client/session.py\u001b[0m in \u001b[0;36mrun\u001b[0;34m(self, fetches, feed_dict, options, run_metadata)\u001b[0m\n\u001b[1;32m    885\u001b[0m     \u001b[0;32mtry\u001b[0m\u001b[0;34m:\u001b[0m\u001b[0;34m\u001b[0m\u001b[0m\n\u001b[1;32m    886\u001b[0m       result = self._run(None, fetches, feed_dict, options_ptr,\n\u001b[0;32m--> 887\u001b[0;31m                          run_metadata_ptr)\n\u001b[0m\u001b[1;32m    888\u001b[0m       \u001b[0;32mif\u001b[0m \u001b[0mrun_metadata\u001b[0m\u001b[0;34m:\u001b[0m\u001b[0;34m\u001b[0m\u001b[0m\n\u001b[1;32m    889\u001b[0m         \u001b[0mproto_data\u001b[0m \u001b[0;34m=\u001b[0m \u001b[0mtf_session\u001b[0m\u001b[0;34m.\u001b[0m\u001b[0mTF_GetBuffer\u001b[0m\u001b[0;34m(\u001b[0m\u001b[0mrun_metadata_ptr\u001b[0m\u001b[0;34m)\u001b[0m\u001b[0;34m\u001b[0m\u001b[0m\n",
      "\u001b[0;32m~/anaconda3/lib/python3.6/site-packages/tensorflow/python/client/session.py\u001b[0m in \u001b[0;36m_run\u001b[0;34m(self, handle, fetches, feed_dict, options, run_metadata)\u001b[0m\n\u001b[1;32m   1108\u001b[0m     \u001b[0;32mif\u001b[0m \u001b[0mfinal_fetches\u001b[0m \u001b[0;32mor\u001b[0m \u001b[0mfinal_targets\u001b[0m \u001b[0;32mor\u001b[0m \u001b[0;34m(\u001b[0m\u001b[0mhandle\u001b[0m \u001b[0;32mand\u001b[0m \u001b[0mfeed_dict_tensor\u001b[0m\u001b[0;34m)\u001b[0m\u001b[0;34m:\u001b[0m\u001b[0;34m\u001b[0m\u001b[0m\n\u001b[1;32m   1109\u001b[0m       results = self._do_run(handle, final_targets, final_fetches,\n\u001b[0;32m-> 1110\u001b[0;31m                              feed_dict_tensor, options, run_metadata)\n\u001b[0m\u001b[1;32m   1111\u001b[0m     \u001b[0;32melse\u001b[0m\u001b[0;34m:\u001b[0m\u001b[0;34m\u001b[0m\u001b[0m\n\u001b[1;32m   1112\u001b[0m       \u001b[0mresults\u001b[0m \u001b[0;34m=\u001b[0m \u001b[0;34m[\u001b[0m\u001b[0;34m]\u001b[0m\u001b[0;34m\u001b[0m\u001b[0m\n",
      "\u001b[0;32m~/anaconda3/lib/python3.6/site-packages/tensorflow/python/client/session.py\u001b[0m in \u001b[0;36m_do_run\u001b[0;34m(self, handle, target_list, fetch_list, feed_dict, options, run_metadata)\u001b[0m\n\u001b[1;32m   1284\u001b[0m     \u001b[0;32mif\u001b[0m \u001b[0mhandle\u001b[0m \u001b[0;32mis\u001b[0m \u001b[0;32mNone\u001b[0m\u001b[0;34m:\u001b[0m\u001b[0;34m\u001b[0m\u001b[0m\n\u001b[1;32m   1285\u001b[0m       return self._do_call(_run_fn, feeds, fetches, targets, options,\n\u001b[0;32m-> 1286\u001b[0;31m                            run_metadata)\n\u001b[0m\u001b[1;32m   1287\u001b[0m     \u001b[0;32melse\u001b[0m\u001b[0;34m:\u001b[0m\u001b[0;34m\u001b[0m\u001b[0m\n\u001b[1;32m   1288\u001b[0m       \u001b[0;32mreturn\u001b[0m \u001b[0mself\u001b[0m\u001b[0;34m.\u001b[0m\u001b[0m_do_call\u001b[0m\u001b[0;34m(\u001b[0m\u001b[0m_prun_fn\u001b[0m\u001b[0;34m,\u001b[0m \u001b[0mhandle\u001b[0m\u001b[0;34m,\u001b[0m \u001b[0mfeeds\u001b[0m\u001b[0;34m,\u001b[0m \u001b[0mfetches\u001b[0m\u001b[0;34m)\u001b[0m\u001b[0;34m\u001b[0m\u001b[0m\n",
      "\u001b[0;32m~/anaconda3/lib/python3.6/site-packages/tensorflow/python/client/session.py\u001b[0m in \u001b[0;36m_do_call\u001b[0;34m(self, fn, *args)\u001b[0m\n\u001b[1;32m   1306\u001b[0m           self._config.experimental.client_handles_error_formatting):\n\u001b[1;32m   1307\u001b[0m         \u001b[0mmessage\u001b[0m \u001b[0;34m=\u001b[0m \u001b[0merror_interpolation\u001b[0m\u001b[0;34m.\u001b[0m\u001b[0minterpolate\u001b[0m\u001b[0;34m(\u001b[0m\u001b[0mmessage\u001b[0m\u001b[0;34m,\u001b[0m \u001b[0mself\u001b[0m\u001b[0;34m.\u001b[0m\u001b[0m_graph\u001b[0m\u001b[0;34m)\u001b[0m\u001b[0;34m\u001b[0m\u001b[0m\n\u001b[0;32m-> 1308\u001b[0;31m       \u001b[0;32mraise\u001b[0m \u001b[0mtype\u001b[0m\u001b[0;34m(\u001b[0m\u001b[0me\u001b[0m\u001b[0;34m)\u001b[0m\u001b[0;34m(\u001b[0m\u001b[0mnode_def\u001b[0m\u001b[0;34m,\u001b[0m \u001b[0mop\u001b[0m\u001b[0;34m,\u001b[0m \u001b[0mmessage\u001b[0m\u001b[0;34m)\u001b[0m\u001b[0;34m\u001b[0m\u001b[0m\n\u001b[0m\u001b[1;32m   1309\u001b[0m \u001b[0;34m\u001b[0m\u001b[0m\n\u001b[1;32m   1310\u001b[0m   \u001b[0;32mdef\u001b[0m \u001b[0m_extend_graph\u001b[0m\u001b[0;34m(\u001b[0m\u001b[0mself\u001b[0m\u001b[0;34m)\u001b[0m\u001b[0;34m:\u001b[0m\u001b[0;34m\u001b[0m\u001b[0m\n",
      "\u001b[0;31mInvalidArgumentError\u001b[0m: ConcatOp : Dimensions of inputs should match: shape[0] = [4,2] vs. shape[1] = [8,1]\n\t [[{{node cell/concat_3}} = ConcatV2[N=2, T=DT_FLOAT, Tidx=DT_INT32, _device=\"/job:localhost/replica:0/task:0/device:CPU:0\"](cell/transpose_3, concat, cell/concat_2694/axis)]]\n\nCaused by op 'cell/concat_3', defined at:\n  File \"/home/heng/anaconda3/lib/python3.6/runpy.py\", line 193, in _run_module_as_main\n    \"__main__\", mod_spec)\n  File \"/home/heng/anaconda3/lib/python3.6/runpy.py\", line 85, in _run_code\n    exec(code, run_globals)\n  File \"/home/heng/anaconda3/lib/python3.6/site-packages/ipykernel_launcher.py\", line 16, in <module>\n    app.launch_new_instance()\n  File \"/home/heng/anaconda3/lib/python3.6/site-packages/traitlets/config/application.py\", line 658, in launch_instance\n    app.start()\n  File \"/home/heng/anaconda3/lib/python3.6/site-packages/ipykernel/kernelapp.py\", line 486, in start\n    self.io_loop.start()\n  File \"/home/heng/anaconda3/lib/python3.6/site-packages/tornado/platform/asyncio.py\", line 127, in start\n    self.asyncio_loop.run_forever()\n  File \"/home/heng/anaconda3/lib/python3.6/asyncio/base_events.py\", line 422, in run_forever\n    self._run_once()\n  File \"/home/heng/anaconda3/lib/python3.6/asyncio/base_events.py\", line 1432, in _run_once\n    handle._run()\n  File \"/home/heng/anaconda3/lib/python3.6/asyncio/events.py\", line 145, in _run\n    self._callback(*self._args)\n  File \"/home/heng/anaconda3/lib/python3.6/site-packages/tornado/platform/asyncio.py\", line 117, in _handle_events\n    handler_func(fileobj, events)\n  File \"/home/heng/anaconda3/lib/python3.6/site-packages/tornado/stack_context.py\", line 276, in null_wrapper\n    return fn(*args, **kwargs)\n  File \"/home/heng/anaconda3/lib/python3.6/site-packages/zmq/eventloop/zmqstream.py\", line 450, in _handle_events\n    self._handle_recv()\n  File \"/home/heng/anaconda3/lib/python3.6/site-packages/zmq/eventloop/zmqstream.py\", line 480, in _handle_recv\n    self._run_callback(callback, msg)\n  File \"/home/heng/anaconda3/lib/python3.6/site-packages/zmq/eventloop/zmqstream.py\", line 432, in _run_callback\n    callback(*args, **kwargs)\n  File \"/home/heng/anaconda3/lib/python3.6/site-packages/tornado/stack_context.py\", line 276, in null_wrapper\n    return fn(*args, **kwargs)\n  File \"/home/heng/anaconda3/lib/python3.6/site-packages/ipykernel/kernelbase.py\", line 283, in dispatcher\n    return self.dispatch_shell(stream, msg)\n  File \"/home/heng/anaconda3/lib/python3.6/site-packages/ipykernel/kernelbase.py\", line 233, in dispatch_shell\n    handler(stream, idents, msg)\n  File \"/home/heng/anaconda3/lib/python3.6/site-packages/ipykernel/kernelbase.py\", line 399, in execute_request\n    user_expressions, allow_stdin)\n  File \"/home/heng/anaconda3/lib/python3.6/site-packages/ipykernel/ipkernel.py\", line 208, in do_execute\n    res = shell.run_cell(code, store_history=store_history, silent=silent)\n  File \"/home/heng/anaconda3/lib/python3.6/site-packages/ipykernel/zmqshell.py\", line 537, in run_cell\n    return super(ZMQInteractiveShell, self).run_cell(*args, **kwargs)\n  File \"/home/heng/anaconda3/lib/python3.6/site-packages/IPython/core/interactiveshell.py\", line 2662, in run_cell\n    raw_cell, store_history, silent, shell_futures)\n  File \"/home/heng/anaconda3/lib/python3.6/site-packages/IPython/core/interactiveshell.py\", line 2785, in _run_cell\n    interactivity=interactivity, compiler=compiler, result=result)\n  File \"/home/heng/anaconda3/lib/python3.6/site-packages/IPython/core/interactiveshell.py\", line 2903, in run_ast_nodes\n    if self.run_code(code, result):\n  File \"/home/heng/anaconda3/lib/python3.6/site-packages/IPython/core/interactiveshell.py\", line 2963, in run_code\n    exec(code_obj, self.user_global_ns, self.user_ns)\n  File \"<ipython-input-26-1613db806308>\", line 8, in <module>\n    m = GridLSTM(units,grid_size,num_classes,max_steps)\n  File \"<ipython-input-25-33917d200677>\", line 149, in __init__\n    self.input4 =  tf.concat([tf.transpose(self.x4_list[t],[1,0]),self.H],axis=0)\n  File \"/home/heng/anaconda3/lib/python3.6/site-packages/tensorflow/python/ops/array_ops.py\", line 1124, in concat\n    return gen_array_ops.concat_v2(values=values, axis=axis, name=name)\n  File \"/home/heng/anaconda3/lib/python3.6/site-packages/tensorflow/python/ops/gen_array_ops.py\", line 1033, in concat_v2\n    \"ConcatV2\", values=values, axis=axis, name=name)\n  File \"/home/heng/anaconda3/lib/python3.6/site-packages/tensorflow/python/framework/op_def_library.py\", line 787, in _apply_op_helper\n    op_def=op_def)\n  File \"/home/heng/anaconda3/lib/python3.6/site-packages/tensorflow/python/util/deprecation.py\", line 488, in new_func\n    return func(*args, **kwargs)\n  File \"/home/heng/anaconda3/lib/python3.6/site-packages/tensorflow/python/framework/ops.py\", line 3272, in create_op\n    op_def=op_def)\n  File \"/home/heng/anaconda3/lib/python3.6/site-packages/tensorflow/python/framework/ops.py\", line 1768, in __init__\n    self._traceback = tf_stack.extract_stack()\n\nInvalidArgumentError (see above for traceback): ConcatOp : Dimensions of inputs should match: shape[0] = [4,2] vs. shape[1] = [8,1]\n\t [[{{node cell/concat_3}} = ConcatV2[N=2, T=DT_FLOAT, Tidx=DT_INT32, _device=\"/job:localhost/replica:0/task:0/device:CPU:0\"](cell/transpose_3, concat, cell/concat_2694/axis)]]\n"
     ]
    }
   ],
   "source": [
    "feed_dict = {m.x1:xdata[:,0,:,:],m.x2:xdata[:,1,:,:],m.x3:xdata[:,2,:,:],m.x4:xdata[:,3,:,:]}\n",
    "a = sess.run(m.hiddens,feed_dict)\n",
    "b = sess.run(m.cells,feed_dict)\n",
    "c = sess.run(m.cell_hidden,feed_dict)\n"
   ]
  },
  {
   "cell_type": "code",
   "execution_count": 30,
   "metadata": {
    "ExecuteTime": {
     "end_time": "2018-11-09T06:55:07.676389Z",
     "start_time": "2018-11-09T06:55:07.647717Z"
    }
   },
   "outputs": [
    {
     "data": {
      "text/plain": [
       "array([0.        , 0.        , 0.        , ..., 0.0014872 , 0.00148466,\n",
       "       0.00148218], dtype=float32)"
      ]
     },
     "execution_count": 30,
     "metadata": {},
     "output_type": "execute_result"
    }
   ],
   "source": [
    "c.flatten()"
   ]
  },
  {
   "cell_type": "code",
   "execution_count": null,
   "metadata": {
    "ExecuteTime": {
     "end_time": "2018-11-09T06:05:25.421206Z",
     "start_time": "2018-11-09T06:05:25.394453Z"
    }
   },
   "outputs": [],
   "source": [
    "a = np.concatenate(a,axis=1)\n",
    "b = np.concatenate(b,axis=1)"
   ]
  },
  {
   "cell_type": "code",
   "execution_count": null,
   "metadata": {
    "ExecuteTime": {
     "end_time": "2018-11-09T06:05:38.054931Z",
     "start_time": "2018-11-09T06:05:38.029627Z"
    }
   },
   "outputs": [],
   "source": [
    "np.concatenate([a,b],axis=0).shape"
   ]
  },
  {
   "cell_type": "code",
   "execution_count": null,
   "metadata": {
    "ExecuteTime": {
     "end_time": "2018-11-08T16:22:24.867176Z",
     "start_time": "2018-11-08T16:22:22.619130Z"
    },
    "scrolled": false
   },
   "outputs": [],
   "source": [
    "tf.reset_default_graph()\n",
    "tf.set_random_seed(1)\n",
    "units =1\n",
    "grid_size = 2\n",
    "num_classes = 1\n",
    "# max_steps = np.shape(xdata2)[1]\n",
    "max_steps = np.shape(xdata)[1]\n",
    "m = GridLSTM(units,grid_size,num_classes,max_steps)\n",
    "\n",
    "######\n",
    "output_dir = \"./output/\"\n",
    "\n",
    "#######\n",
    "gpu_options = tf.GPUOptions(per_process_gpu_memory_fraction=0.25)\n",
    "sess = tf.Session(config=tf.ConfigProto(\n",
    "        gpu_options=gpu_options,\n",
    "        log_device_placement=False\n",
    "    ))\n",
    "init = tf.global_variables_initializer()\n",
    "sess.run(init)"
   ]
  },
  {
   "cell_type": "code",
   "execution_count": null,
   "metadata": {
    "ExecuteTime": {
     "end_time": "2018-11-08T13:51:41.879512Z",
     "start_time": "2018-11-08T13:50:13.633756Z"
    },
    "scrolled": false
   },
   "outputs": [],
   "source": [
    "tf.reset_default_graph()\n",
    "tf.set_random_seed(1)\n",
    "units =1\n",
    "grid_size = 2\n",
    "num_classes = 2\n",
    "max_steps = np.shape(xdata2)[1]\n",
    "m = GridLSTM(units,grid_size,num_classes,max_steps)\n",
    "\n",
    "######\n",
    "output_dir = \"./output/\"\n",
    "\n",
    "#######\n",
    "gpu_options = tf.GPUOptions(per_process_gpu_memory_fraction=0.25)\n",
    "sess = tf.Session(config=tf.ConfigProto(\n",
    "        gpu_options=gpu_options,\n",
    "        log_device_placement=False\n",
    "    ))\n",
    "init = tf.global_variables_initializer()\n",
    "sess.run(init)\n",
    "\n",
    "# summary_out_dir = os.path.join(output_dir, \"summaries\")\n",
    "# summary_writer  = tf.summary.FileWriter(summary_out_dir, sess.graph)\n",
    "\n",
    "rate = .01\n",
    "epochs=5000\n",
    "for e in range(epochs):\n",
    "    train_step, train_loss = m.train_step(sess,rate)\n",
    "#     summary_writer.add_summary(train_summary, train_step)\n",
    "    \n",
    "    if e%50==0:\n",
    "        print(train_loss)\n",
    "        output_list = m.get_output(sess)\n",
    "# output_list = m.get_output(sess)\n",
    "# sess.close()\n",
    "pd.DataFrame([output_list[0].flatten(),ydata.flatten()]).T.plot()"
   ]
  },
  {
   "cell_type": "code",
   "execution_count": null,
   "metadata": {
    "ExecuteTime": {
     "end_time": "2018-11-08T13:48:50.961586Z",
     "start_time": "2018-11-08T13:48:50.933626Z"
    }
   },
   "outputs": [],
   "source": [
    "output_list[0]"
   ]
  },
  {
   "cell_type": "code",
   "execution_count": null,
   "metadata": {
    "ExecuteTime": {
     "end_time": "2018-11-06T18:01:33.250402Z",
     "start_time": "2018-11-06T18:01:33.093467Z"
    }
   },
   "outputs": [],
   "source": [
    "pd.DataFrame([output_list[0].flatten(),ydata.flatten()]).T.plot()"
   ]
  }
 ],
 "metadata": {
  "kernelspec": {
   "display_name": "Python 3",
   "language": "python",
   "name": "python3"
  },
  "language_info": {
   "codemirror_mode": {
    "name": "ipython",
    "version": 3
   },
   "file_extension": ".py",
   "mimetype": "text/x-python",
   "name": "python",
   "nbconvert_exporter": "python",
   "pygments_lexer": "ipython3",
   "version": "3.6.5"
  },
  "varInspector": {
   "cols": {
    "lenName": 16,
    "lenType": 16,
    "lenVar": 40
   },
   "kernels_config": {
    "python": {
     "delete_cmd_postfix": "",
     "delete_cmd_prefix": "del ",
     "library": "var_list.py",
     "varRefreshCmd": "print(var_dic_list())"
    },
    "r": {
     "delete_cmd_postfix": ") ",
     "delete_cmd_prefix": "rm(",
     "library": "var_list.r",
     "varRefreshCmd": "cat(var_dic_list()) "
    }
   },
   "types_to_exclude": [
    "module",
    "function",
    "builtin_function_or_method",
    "instance",
    "_Feature"
   ],
   "window_display": false
  }
 },
 "nbformat": 4,
 "nbformat_minor": 2
}
