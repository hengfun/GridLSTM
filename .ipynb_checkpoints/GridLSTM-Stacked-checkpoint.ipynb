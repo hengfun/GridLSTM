{
 "cells": [
  {
   "cell_type": "code",
   "execution_count": 1,
   "metadata": {
    "ExecuteTime": {
     "end_time": "2018-11-08T13:10:52.364023Z",
     "start_time": "2018-11-08T13:10:51.318174Z"
    }
   },
   "outputs": [
    {
     "name": "stderr",
     "output_type": "stream",
     "text": [
      "/home/heng/anaconda3/lib/python3.6/site-packages/h5py/__init__.py:36: FutureWarning: Conversion of the second argument of issubdtype from `float` to `np.floating` is deprecated. In future, it will be treated as `np.float64 == np.dtype(float).type`.\n",
      "  from ._conv import register_converters as _register_converters\n"
     ]
    }
   ],
   "source": [
    "import numpy as np\n",
    "import pandas as pd\n",
    "import tensorflow as tf\n",
    "import tensorflow as tf\n",
    "import os\n",
    "import matplotlib.pyplot as plt\n",
    "\n",
    "%matplotlib inline\n",
    "%load_ext autoreload\n",
    "%autoreload 2"
   ]
  },
  {
   "cell_type": "code",
   "execution_count": null,
   "metadata": {
    "ExecuteTime": {
     "end_time": "2018-11-08T12:49:32.650158Z",
     "start_time": "2018-11-08T12:49:32.425956Z"
    }
   },
   "outputs": [],
   "source": [
    "mnist = tf.keras.datasets.mnist\n",
    "(x_train, y_train),(x_test, y_test) = mnist.load_data()"
   ]
  },
  {
   "cell_type": "code",
   "execution_count": 81,
   "metadata": {
    "ExecuteTime": {
     "end_time": "2018-11-08T13:29:38.273600Z",
     "start_time": "2018-11-08T13:29:38.245971Z"
    },
    "collapsed": true
   },
   "outputs": [
    {
     "data": {
      "text/plain": [
       "array([[[ 9.32855471e-02],\n",
       "        [ 6.06534733e-02],\n",
       "        [ 3.34870568e-02],\n",
       "        [ 8.68706126e-02],\n",
       "        [ 1.74595590e-01],\n",
       "        [ 1.52130870e-01],\n",
       "        [ 1.63708322e-01],\n",
       "        [ 4.75617452e-02],\n",
       "        [ 5.33816190e-02],\n",
       "        [ 1.32895959e-01],\n",
       "        [ 1.32208712e-01],\n",
       "        [ 1.02044627e-01],\n",
       "        [ 1.56180306e-02],\n",
       "        [-1.92505325e-04],\n",
       "        [ 5.64159959e-02],\n",
       "        [ 8.29733605e-02],\n",
       "        [ 1.07436765e-01],\n",
       "        [ 2.54815356e-02],\n",
       "        [ 5.54593175e-02],\n",
       "        [ 1.01331848e-01],\n",
       "        [ 1.37246134e-01],\n",
       "        [ 2.48412913e-01],\n",
       "        [ 2.09675797e-01],\n",
       "        [ 1.72801490e-01],\n",
       "        [ 3.67034593e-01],\n",
       "        [ 3.16905504e-01],\n",
       "        [ 3.15040909e-01],\n",
       "        [ 2.26219499e-01],\n",
       "        [ 2.84638933e-01],\n",
       "        [ 3.45992007e-01],\n",
       "        [ 3.12336718e-01],\n",
       "        [ 2.47972575e-01],\n",
       "        [ 1.43527089e-01],\n",
       "        [ 1.13443714e-01],\n",
       "        [ 2.11289815e-01],\n",
       "        [ 2.57179230e-01],\n",
       "        [ 2.78922303e-01],\n",
       "        [ 2.49550959e-01],\n",
       "        [ 2.13208194e-01],\n",
       "        [ 2.98477506e-01],\n",
       "        [ 3.64364221e-01],\n",
       "        [ 3.62956348e-01],\n",
       "        [ 3.08580239e-01],\n",
       "        [ 4.37312710e-01],\n",
       "        [ 4.59372825e-01],\n",
       "        [ 5.28665380e-01],\n",
       "        [ 4.53970278e-01],\n",
       "        [ 4.36355377e-01],\n",
       "        [ 3.65421975e-01],\n",
       "        [ 4.72854137e-01],\n",
       "        [ 4.59073154e-01],\n",
       "        [ 4.28032500e-01],\n",
       "        [ 3.35172736e-01],\n",
       "        [ 3.18403720e-01],\n",
       "        [ 4.01134219e-01],\n",
       "        [ 4.45521401e-01],\n",
       "        [ 4.22092182e-01],\n",
       "        [ 4.01022671e-01],\n",
       "        [ 3.85222084e-01],\n",
       "        [ 4.76360916e-01],\n",
       "        [ 5.55981926e-01],\n",
       "        [ 5.76106023e-01],\n",
       "        [ 5.16464974e-01],\n",
       "        [ 5.01408713e-01],\n",
       "        [ 6.60774880e-01],\n",
       "        [ 7.09592200e-01],\n",
       "        [ 6.21881232e-01],\n",
       "        [ 6.06238861e-01],\n",
       "        [ 5.67438211e-01],\n",
       "        [ 6.60966719e-01],\n",
       "        [ 6.89970509e-01],\n",
       "        [ 5.99702685e-01],\n",
       "        [ 5.66877059e-01],\n",
       "        [ 4.96483605e-01],\n",
       "        [ 5.94464464e-01],\n",
       "        [ 5.90284267e-01],\n",
       "        [ 5.72387000e-01],\n",
       "        [ 5.53079155e-01],\n",
       "        [ 5.75162123e-01],\n",
       "        [ 6.69325650e-01],\n",
       "        [ 7.20265698e-01],\n",
       "        [ 7.95545493e-01],\n",
       "        [ 7.36484267e-01],\n",
       "        [ 6.87172732e-01],\n",
       "        [ 8.81801513e-01],\n",
       "        [ 9.61667282e-01],\n",
       "        [ 8.90043267e-01],\n",
       "        [ 7.65802720e-01],\n",
       "        [ 7.42080498e-01],\n",
       "        [ 8.72292885e-01],\n",
       "        [ 8.34131640e-01],\n",
       "        [ 8.13890536e-01],\n",
       "        [ 7.17366587e-01],\n",
       "        [ 7.45846465e-01],\n",
       "        [ 7.72802919e-01],\n",
       "        [ 8.13845420e-01],\n",
       "        [ 7.79899639e-01],\n",
       "        [ 8.07263790e-01],\n",
       "        [ 7.68742202e-01],\n",
       "        [ 8.59991037e-01]]])"
      ]
     },
     "execution_count": 81,
     "metadata": {},
     "output_type": "execute_result"
    }
   ],
   "source": [
    "xdata[::-1]"
   ]
  },
  {
   "cell_type": "code",
   "execution_count": 85,
   "metadata": {
    "ExecuteTime": {
     "end_time": "2018-11-08T13:30:57.173541Z",
     "start_time": "2018-11-08T13:30:57.151251Z"
    }
   },
   "outputs": [],
   "source": [
    "xdata2 = np.concatenate([xdata,xdata[:,::-1,:]],axis=2)\n",
    "ydata2 = np.concatenate([ydata,ydata[:,::-1,:]],axis=2)"
   ]
  },
  {
   "cell_type": "code",
   "execution_count": 152,
   "metadata": {
    "ExecuteTime": {
     "end_time": "2018-11-08T13:50:06.924339Z",
     "start_time": "2018-11-08T13:50:06.894171Z"
    }
   },
   "outputs": [
    {
     "data": {
      "text/plain": [
       "True"
      ]
     },
     "execution_count": 152,
     "metadata": {},
     "output_type": "execute_result"
    }
   ],
   "source": [
    "# generate data\n",
    "np.random.seed(0)\n",
    "latent_size = 5\n",
    "n = 51\n",
    "num_steps =5\n",
    "n_inputs = 1\n",
    "\n",
    "cycles = 25\n",
    "stdev = .07\n",
    "inputs = np.linspace(0,2*np.pi*cycles,n)\n",
    "noise = np.random.randn(n)*stdev\n",
    "true_data = (5*np.sin(inputs)+30*np.sin(5*inputs/cycles)+20*np.cos(20*inputs/cycles)+2*inputs)/(2*np.pi*cycles)\n",
    "obs_data = true_data+noise\n",
    "obs_data = (obs_data-obs_data.min()*1.01)/(obs_data.max()-obs_data.min()*.8)\n",
    "ydata = pd.DataFrame(obs_data.reshape(-1,1)).shift(-1).dropna().values.reshape(1,-1,1)\n",
    "xdata = obs_data[:-1].reshape(1,-1,1)\n",
    "t = np.arange(xdata.size).reshape(xdata.shape)\n",
    "len(xdata)==len(ydata)\n",
    "\n",
    "# xdata = np.array(l).reshape(-1,100,1)\n",
    "# ydata = np.roll(xdata,-1)"
   ]
  },
  {
   "cell_type": "code",
   "execution_count": 153,
   "metadata": {
    "ExecuteTime": {
     "end_time": "2018-11-08T13:50:07.648839Z",
     "start_time": "2018-11-08T13:50:07.616547Z"
    }
   },
   "outputs": [],
   "source": [
    "class GridLSTM(object):\n",
    "    def __init__(self,units,grid_size,num_classes,max_steps,forget_bias=1):\n",
    "        tf.set_random_seed(1)\n",
    "        self.num_units = units\n",
    "        self.all_loss = []\n",
    "        self.clip_grad_norm = True\n",
    "        self.max_norm_gradient = 1.0\n",
    "        self.num_classes = num_classes\n",
    "        self.grid_size = grid_size\n",
    "        forget_bias = 1.0\n",
    "        self.dtype = tf.float32\n",
    "        self.x = tf.placeholder(dtype=self.dtype,shape=[None,None,self.num_classes])\n",
    "        self.y = tf.placeholder(dtype=self.dtype,shape=[None,None,self.num_classes])\n",
    "        self.global_step = tf.Variable(0, name='global_step', trainable=False)\n",
    "        self.lr = tf.placeholder(dtype=self.dtype,name='learning_rate')\n",
    "        self.batch_size = 1#tf.shape(self.x)[0]\n",
    "        self.max_steps = max_steps\n",
    "        self.x_list = [tf.squeeze(x, axis=[1])\n",
    "                  for x in tf.split(\n",
    "                    axis=1, num_or_size_splits=max_steps,\n",
    "                    value=self.x, name=\"inputs_list\")]\n",
    "        self.hiddens = []\n",
    "        self.cells = []\n",
    "        self.activation = tf.nn.relu\n",
    "        self.w_o = tf.get_variable('w_o',[self.grid_size*2,self.num_classes])\n",
    "        self.b_o = tf.get_variable('b_o',[self.num_classes])\n",
    "        \n",
    "        #first layer\n",
    "        self.Wu =tf.get_variable('Wu', [self.num_units*self.grid_size, self.grid_size*self.num_units+self.num_classes])\n",
    "        self.Wf = tf.get_variable('Wf', [self.num_units*self.grid_size, self.grid_size*self.num_units+self.num_classes])\n",
    "        self.Wo = tf.get_variable('Wo', [self.num_units*self.grid_size, self.grid_size*self.num_units+self.num_classes])\n",
    "        self.Wc = tf.get_variable('Wc', [self.num_units*self.grid_size, self.grid_size*self.num_units+self.num_classes])\n",
    "        \n",
    "        self.bu=tf.get_variable('bu',[self.num_units*self.grid_size,self.num_units])\n",
    "        self.bf=tf.get_variable('bf',[self.num_units*self.grid_size,self.num_units],initializer=tf.constant_initializer(forget_bias))\n",
    "        self.bo=tf.get_variable('bo',[self.num_units*self.grid_size,self.num_units])\n",
    "        self.bc=tf.get_variable('bc',[self.num_units*self.grid_size,self.num_units])\n",
    "        \n",
    "        #second layer\n",
    "        self.Wu2 =tf.get_variable('Wu2', [self.num_units*self.grid_size, self.grid_size*self.num_units+self.grid_size*2])\n",
    "        self.Wf2 = tf.get_variable('Wf2', [self.num_units*self.grid_size, self.grid_size*self.num_units+self.grid_size*2])\n",
    "        self.Wo2 = tf.get_variable('Wo2', [self.num_units*self.grid_size, self.grid_size*self.num_units+self.grid_size*2])\n",
    "        self.Wc2 = tf.get_variable('Wc2', [self.num_units*self.grid_size, self.grid_size*self.num_units+self.grid_size*2])\n",
    "        \n",
    "        self.bu2=tf.get_variable('bu2',[self.num_units*self.grid_size,self.num_units])\n",
    "        self.bf2=tf.get_variable('bf2',[self.num_units*self.grid_size,self.num_units],initializer=tf.constant_initializer(forget_bias))\n",
    "        self.bo2=tf.get_variable('bo2',[self.num_units*self.grid_size,self.num_units])\n",
    "        self.bc2=tf.get_variable('bc2',[self.num_units*self.grid_size,self.num_units])        \n",
    "        \n",
    "        self.H =  tf.zeros((grid_size,self.num_units))\n",
    "        self.M = tf.zeros((grid_size,self.num_units))\n",
    "        self.H2 =  tf.zeros((grid_size,self.num_units))\n",
    "        self.M2 = tf.zeros((grid_size,self.num_units))        \n",
    "        with tf.variable_scope('cell') as scope:           \n",
    "            for t in range(0,max_steps):\n",
    "                if t>0: scope.reuse_variables()\n",
    "                \n",
    "                #first layer\n",
    "                self.input =  tf.concat([tf.transpose(self.x_list[t],[1,0]),self.H],axis=0) \n",
    "                self.Gu = tf.sigmoid(tf.matmul(self.Wu,self.input)+self.bu)\n",
    "                self.Gf = tf.sigmoid(tf.matmul(self.Wf,self.input)+self.bf)\n",
    "                self.Go = tf.sigmoid(tf.matmul(self.Wo,self.input)+self.bo)\n",
    "                self.Gc = self.activation(tf.matmul(self.Wc,self.input)+self.bc)\n",
    "\n",
    "                self.M_new = tf.multiply(self.Gu,self.Gc)+tf.multiply(self.Gf,self.M)\n",
    "                self.H_new = self.activation(tf.multiply(self.Go,self.M_new))\n",
    "                self.M = self.M_new\n",
    "                self.H = self.H_new\n",
    "                \n",
    "                #second layer\n",
    "#                 self.input2 = tf.concat([tf.concat([self.H,self.M],axis=0),self.H2],axis=0)\n",
    "#                 self.Gu2 = tf.sigmoid(tf.matmul(self.Wu2,self.input2)+self.bu2)\n",
    "#                 self.Gf2 = tf.sigmoid(tf.matmul(self.Wf2,self.input2)+self.bf2)\n",
    "#                 self.Go2 = tf.sigmoid(tf.matmul(self.Wo2,self.input2)+self.bo2)\n",
    "#                 self.Gc2 = self.activation(tf.matmul(self.Wc2,self.input2)+self.bc2)\n",
    "\n",
    "#                 self.M_new2 = tf.multiply(self.Gu2,self.Gc2)+tf.multiply(self.Gf2,self.M2)\n",
    "#                 self.H_new2 = self.activation(tf.multiply(self.Go2,self.M_new2))\n",
    "#                 self.M2 = self.M_new2\n",
    "#                 self.H2 = self.H_new2             \n",
    "\n",
    "                self.hiddens.append(self.H)\n",
    "                self.cells.append(self.M)\n",
    "\n",
    "        self.hiddens = tf.concat(self.hiddens,axis=1)\n",
    "        self.cells = tf.concat(self.cells,axis=1)\n",
    "        self.cell_hidden = tf.transpose(tf.concat([self.cells,self.hiddens],axis=0),[1,0])\n",
    "        \n",
    "        self.outputs = self.activation(tf.matmul(self.cell_hidden,self.w_o)+self.b_o)\n",
    "        self.outputs = tf.reshape(self.outputs,shape=tf.shape(self.x))\n",
    "        \n",
    "\n",
    "        self.loss = tf.losses.mean_squared_error(labels=self.y,predictions=self.outputs)\n",
    "        self.optimizer = tf.train.AdamOptimizer(learning_rate=self.lr)\n",
    "\n",
    "        self.grads_vars =self.optimizer.compute_gradients(self.loss)\n",
    "    \n",
    "        self.train_op = self.optimizer.apply_gradients(self.grads_vars,\n",
    "                                                           global_step=self.global_step)\n",
    "\n",
    "    def train_step(self,sess,rate):\n",
    "        _, train_step, train_loss = sess.run([self.train_op,\n",
    "                        self.global_step,\n",
    "                        self.loss],\n",
    "                        {self.x:xdata2,\n",
    "                          self.y:ydata2,\n",
    "                           self.lr:rate})\n",
    "        self.all_loss.append(train_loss)\n",
    "        return train_step, train_loss\n",
    "        \n",
    "    def get_output(self,sess):\n",
    "        return sess.run([self.outputs,\n",
    "                                    self.hiddens,\n",
    "                                    self.cells],{self.x:xdata2,self.y:ydata2})\n",
    "    "
   ]
  },
  {
   "cell_type": "code",
   "execution_count": 154,
   "metadata": {
    "ExecuteTime": {
     "end_time": "2018-11-08T13:50:13.517835Z",
     "start_time": "2018-11-08T13:50:08.201329Z"
    },
    "scrolled": false
   },
   "outputs": [],
   "source": [
    "tf.reset_default_graph()\n",
    "tf.set_random_seed(1)\n",
    "units =1\n",
    "grid_size = 2\n",
    "num_classes = 2\n",
    "max_steps = np.shape(xdata2)[1]\n",
    "m = GridLSTM(units,grid_size,num_classes,max_steps)\n",
    "\n",
    "######\n",
    "output_dir = \"./output/\"\n",
    "\n",
    "#######\n",
    "gpu_options = tf.GPUOptions(per_process_gpu_memory_fraction=0.25)\n",
    "sess = tf.Session(config=tf.ConfigProto(\n",
    "        gpu_options=gpu_options,\n",
    "        log_device_placement=False\n",
    "    ))\n",
    "init = tf.global_variables_initializer()\n",
    "sess.run(init)"
   ]
  },
  {
   "cell_type": "code",
   "execution_count": 155,
   "metadata": {
    "ExecuteTime": {
     "end_time": "2018-11-08T13:51:41.879512Z",
     "start_time": "2018-11-08T13:50:13.633756Z"
    }
   },
   "outputs": [
    {
     "name": "stdout",
     "output_type": "stream",
     "text": [
      "0.28904128\n",
      "0.13784193\n",
      "0.13574125\n",
      "0.13507885\n",
      "0.13464718\n",
      "0.13430429\n",
      "0.13401324\n",
      "0.13376528\n",
      "0.13355738\n",
      "0.13338237\n",
      "0.13323443\n",
      "0.13310567\n",
      "0.13299684\n",
      "0.1329037\n",
      "0.1328233\n",
      "0.13275333\n",
      "0.13269185\n",
      "0.13263729\n",
      "0.13258839\n",
      "0.1325441\n",
      "0.1325036\n",
      "0.13246618\n",
      "0.13243133\n",
      "0.13239862\n",
      "0.1323677\n",
      "0.1323383\n",
      "0.13231024\n",
      "0.13228336\n",
      "0.1322575\n",
      "0.13223264\n",
      "0.13220868\n",
      "0.13218556\n",
      "0.1321633\n",
      "0.13214184\n",
      "0.13212118\n",
      "0.13210134\n",
      "0.13208227\n",
      "0.13206398\n",
      "0.13204648\n",
      "0.13202976\n",
      "0.1320138\n",
      "0.13199858\n",
      "0.13198407\n",
      "0.13197023\n",
      "0.131957\n",
      "0.13194434\n",
      "0.1319322\n",
      "0.13192047\n",
      "0.13190912\n",
      "0.13189803\n",
      "0.13188715\n",
      "0.13187635\n",
      "0.13186555\n",
      "0.13185465\n",
      "0.13184358\n",
      "0.13183223\n",
      "0.13182053\n",
      "0.13180837\n",
      "0.13179573\n",
      "0.13178098\n",
      "0.13176459\n",
      "0.13174966\n",
      "0.13173415\n",
      "0.13171798\n",
      "0.1317011\n",
      "0.13168354\n",
      "0.13166527\n",
      "0.1316463\n",
      "0.13162667\n",
      "0.1316064\n",
      "0.13158554\n",
      "0.13156411\n",
      "0.13154219\n",
      "0.13151993\n",
      "0.13149758\n",
      "0.13147539\n",
      "0.13145356\n",
      "0.13143228\n",
      "0.13141172\n",
      "0.13139209\n",
      "0.13137376\n",
      "0.13135675\n",
      "0.1313408\n",
      "0.13132586\n",
      "0.13131192\n",
      "0.13129884\n",
      "0.1312865\n",
      "0.13127485\n",
      "0.13126373\n",
      "0.13125305\n",
      "0.13124263\n",
      "0.13123249\n",
      "0.13122244\n",
      "0.13121249\n",
      "0.13120255\n",
      "0.13118921\n",
      "0.131177\n",
      "0.13116533\n",
      "0.13115352\n",
      "0.13114168\n"
     ]
    },
    {
     "data": {
      "text/plain": [
       "<matplotlib.axes._subplots.AxesSubplot at 0x7f97501805f8>"
      ]
     },
     "execution_count": 155,
     "metadata": {},
     "output_type": "execute_result"
    },
    {
     "data": {
      "image/png": "[encoded data removed]",
      "text/plain": [
       "<Figure size 432x288 with 1 Axes>"
      ]
     },
     "metadata": {},
     "output_type": "display_data"
    }
   ],
   "source": [
    "tf.reset_default_graph()\n",
    "tf.set_random_seed(1)\n",
    "units =1\n",
    "grid_size = 2\n",
    "num_classes = 2\n",
    "max_steps = np.shape(xdata2)[1]\n",
    "m = GridLSTM(units,grid_size,num_classes,max_steps)\n",
    "\n",
    "######\n",
    "output_dir = \"./output/\"\n",
    "\n",
    "#######\n",
    "gpu_options = tf.GPUOptions(per_process_gpu_memory_fraction=0.25)\n",
    "sess = tf.Session(config=tf.ConfigProto(\n",
    "        gpu_options=gpu_options,\n",
    "        log_device_placement=False\n",
    "    ))\n",
    "init = tf.global_variables_initializer()\n",
    "sess.run(init)\n",
    "\n",
    "# summary_out_dir = os.path.join(output_dir, \"summaries\")\n",
    "# summary_writer  = tf.summary.FileWriter(summary_out_dir, sess.graph)\n",
    "\n",
    "rate = .01\n",
    "epochs=5000\n",
    "for e in range(epochs):\n",
    "    train_step, train_loss = m.train_step(sess,rate)\n",
    "#     summary_writer.add_summary(train_summary, train_step)\n",
    "    \n",
    "    if e%50==0:\n",
    "        print(train_loss)\n",
    "        output_list = m.get_output(sess)\n",
    "# output_list = m.get_output(sess)\n",
    "# sess.close()\n",
    "pd.DataFrame([output_list[0].flatten(),ydata.flatten()]).T.plot()"
   ]
  },
  {
   "cell_type": "code",
   "execution_count": 148,
   "metadata": {
    "ExecuteTime": {
     "end_time": "2018-11-08T13:48:50.961586Z",
     "start_time": "2018-11-08T13:48:50.933626Z"
    }
   },
   "outputs": [
    {
     "data": {
      "text/plain": [
       "array([[[0.06065375, 0.        ],\n",
       "        [0.        , 0.        ],\n",
       "        [0.        , 0.        ],\n",
       "        [0.        , 0.        ],\n",
       "        [0.        , 0.        ],\n",
       "        [0.        , 0.        ],\n",
       "        [0.        , 0.        ],\n",
       "        [0.        , 0.        ],\n",
       "        [0.        , 0.        ],\n",
       "        [0.        , 0.        ],\n",
       "        [0.        , 0.        ],\n",
       "        [0.        , 0.        ],\n",
       "        [0.        , 0.        ],\n",
       "        [0.        , 0.        ],\n",
       "        [0.        , 0.        ],\n",
       "        [0.        , 0.        ],\n",
       "        [0.        , 0.        ],\n",
       "        [0.        , 0.        ],\n",
       "        [0.        , 0.        ],\n",
       "        [0.        , 0.        ],\n",
       "        [0.        , 0.        ],\n",
       "        [0.        , 0.        ],\n",
       "        [0.        , 0.        ],\n",
       "        [0.        , 0.        ],\n",
       "        [0.        , 0.        ],\n",
       "        [0.        , 0.        ],\n",
       "        [0.        , 0.        ],\n",
       "        [0.        , 0.        ],\n",
       "        [0.        , 0.        ],\n",
       "        [0.        , 0.        ],\n",
       "        [0.        , 0.        ],\n",
       "        [0.        , 0.        ],\n",
       "        [0.        , 0.        ],\n",
       "        [0.        , 0.        ],\n",
       "        [0.        , 0.        ],\n",
       "        [0.        , 0.        ],\n",
       "        [0.        , 0.        ],\n",
       "        [0.        , 0.        ],\n",
       "        [0.        , 0.        ],\n",
       "        [0.        , 0.        ],\n",
       "        [0.        , 0.        ],\n",
       "        [0.        , 0.        ],\n",
       "        [0.        , 0.        ],\n",
       "        [0.        , 0.        ],\n",
       "        [0.        , 0.        ],\n",
       "        [0.        , 0.        ],\n",
       "        [0.        , 0.        ],\n",
       "        [0.        , 0.        ],\n",
       "        [0.        , 0.        ],\n",
       "        [0.        , 0.        ],\n",
       "        [0.        , 0.        ],\n",
       "        [0.        , 0.        ],\n",
       "        [0.        , 0.        ],\n",
       "        [0.        , 0.        ],\n",
       "        [0.        , 0.        ],\n",
       "        [0.        , 0.        ],\n",
       "        [0.        , 0.        ],\n",
       "        [0.        , 0.        ],\n",
       "        [0.        , 0.        ],\n",
       "        [0.        , 0.        ],\n",
       "        [0.        , 0.        ],\n",
       "        [0.        , 0.        ],\n",
       "        [0.        , 0.        ],\n",
       "        [0.        , 0.        ],\n",
       "        [0.        , 0.        ],\n",
       "        [0.        , 0.        ],\n",
       "        [0.        , 0.        ],\n",
       "        [0.        , 0.        ],\n",
       "        [0.        , 0.        ],\n",
       "        [0.        , 0.        ],\n",
       "        [0.        , 0.        ],\n",
       "        [0.        , 0.        ],\n",
       "        [0.        , 0.        ],\n",
       "        [0.        , 0.        ],\n",
       "        [0.        , 0.        ],\n",
       "        [0.        , 0.        ],\n",
       "        [0.        , 0.        ],\n",
       "        [0.        , 0.        ],\n",
       "        [0.        , 0.        ],\n",
       "        [0.        , 0.        ],\n",
       "        [0.        , 0.        ],\n",
       "        [0.        , 0.        ],\n",
       "        [0.        , 0.        ],\n",
       "        [0.        , 0.        ],\n",
       "        [0.        , 0.        ],\n",
       "        [0.        , 0.        ],\n",
       "        [0.        , 0.        ],\n",
       "        [0.        , 0.        ],\n",
       "        [0.        , 0.        ],\n",
       "        [0.        , 0.        ],\n",
       "        [0.        , 0.        ],\n",
       "        [0.        , 0.        ],\n",
       "        [0.        , 0.        ],\n",
       "        [0.        , 0.        ],\n",
       "        [0.        , 0.        ],\n",
       "        [0.        , 0.        ],\n",
       "        [0.        , 0.        ],\n",
       "        [0.        , 0.        ],\n",
       "        [0.        , 0.        ],\n",
       "        [0.        , 0.        ]]], dtype=float32)"
      ]
     },
     "execution_count": 148,
     "metadata": {},
     "output_type": "execute_result"
    }
   ],
   "source": [
    "output_list[0]"
   ]
  },
  {
   "cell_type": "code",
   "execution_count": null,
   "metadata": {
    "ExecuteTime": {
     "end_time": "2018-11-06T18:01:33.250402Z",
     "start_time": "2018-11-06T18:01:33.093467Z"
    }
   },
   "outputs": [],
   "source": [
    "pd.DataFrame([output_list[0].flatten(),ydata.flatten()]).T.plot()"
   ]
  }
 ],
 "metadata": {
  "kernelspec": {
   "display_name": "Python 3",
   "language": "python",
   "name": "python3"
  },
  "language_info": {
   "codemirror_mode": {
    "name": "ipython",
    "version": 3
   },
   "file_extension": ".py",
   "mimetype": "text/x-python",
   "name": "python",
   "nbconvert_exporter": "python",
   "pygments_lexer": "ipython3",
   "version": "3.6.5"
  },
  "varInspector": {
   "cols": {
    "lenName": 16,
    "lenType": 16,
    "lenVar": 40
   },
   "kernels_config": {
    "python": {
     "delete_cmd_postfix": "",
     "delete_cmd_prefix": "del ",
     "library": "var_list.py",
     "varRefreshCmd": "print(var_dic_list())"
    },
    "r": {
     "delete_cmd_postfix": ") ",
     "delete_cmd_prefix": "rm(",
     "library": "var_list.r",
     "varRefreshCmd": "cat(var_dic_list()) "
    }
   },
   "types_to_exclude": [
    "module",
    "function",
    "builtin_function_or_method",
    "instance",
    "_Feature"
   ],
   "window_display": false
  }
 },
 "nbformat": 4,
 "nbformat_minor": 2
}
